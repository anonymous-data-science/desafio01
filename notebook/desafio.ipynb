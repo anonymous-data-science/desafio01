{
 "cells": [
  {
   "cell_type": "markdown",
   "metadata": {},
   "source": [
    "# Desafio 1 - Parte 2"
   ]
  },
  {
   "cell_type": "markdown",
   "metadata": {
    "collapsed": true
   },
   "source": [
    "## Paso 1. Comenzando"
   ]
  },
  {
   "cell_type": "markdown",
   "metadata": {},
   "source": [
    "Una vez que hayas elegido el escenario, descargá el dataset original del [sitio original del Estado de Iowa](https://data.iowa.gov/Economy/Iowa-Liquor-Sales/m3tr-qhgy). Importá los datos con Pandas. Probablemente tengas que parsear las columnas de fecha adecuadamente."
   ]
  },
  {
   "cell_type": "code",
   "execution_count": 2,
   "metadata": {
    "collapsed": true
   },
   "outputs": [],
   "source": [
    "import pandas as pd\n",
    "\n",
    "## Cargar los datos en un DataFrame\n",
    "# pd.read_csv()\n",
    "\n",
    "## Transformar las columnas de fecha si fuera necesario\n",
    "# df[\"Date\"] = pd.to_datetime(df[\"Date\"], format=\"%m-%d-%y\")"
   ]
  },
  {
   "cell_type": "markdown",
   "metadata": {},
   "source": [
    "## Paso 2. Explorando los datos"
   ]
  },
  {
   "cell_type": "markdown",
   "metadata": {},
   "source": [
    "Realizá algún análisis exploratorio y construí algunos gráficos, como histogramas de precios, de total de bebidas vendidas, etc."
   ]
  },
  {
   "cell_type": "code",
   "execution_count": null,
   "metadata": {
    "collapsed": true
   },
   "outputs": [],
   "source": [
    "import seaborn as sns\n",
    "import matplotlib.pyplot as plt"
   ]
  },
  {
   "cell_type": "markdown",
   "metadata": {},
   "source": [
    "### Registrá todos tus hallazagos"
   ]
  },
  {
   "cell_type": "markdown",
   "metadata": {},
   "source": [
    "Es importante que hagas una breve descripción y análisis de las observaciones y hallazagos que encuentres en la etapa de análisis exploratiorio"
   ]
  },
  {
   "cell_type": "code",
   "execution_count": null,
   "metadata": {
    "collapsed": true
   },
   "outputs": [],
   "source": []
  },
  {
   "cell_type": "markdown",
   "metadata": {},
   "source": [
    "## Paso 3. Analizando y haciendo mining de los datos"
   ]
  },
  {
   "cell_type": "markdown",
   "metadata": {},
   "source": [
    "Ahora estás listo para generar las variables que vas a usar en tus modelos de regresión. Por ejemplo, puede ser interesante calcular el total de ventas para cada local desde Enero a Marzo de 2015; el precio medio por botella, etc. En las consignas vas a encontrar algunas ideas más para abordar tu escenario. Consultá [acá](http://pandas.pydata.org/pandas-docs/stable/groupby.html) la documentación de Pandas para poder conocer las diferentes funciones y métodos que te van a ayudar para esta tarea. También podés recurrir (y te recomendamos enfáticamente que lo hagas) al blog [Stack Overflow](http://stackoverflow.com/) que te va a ayudar mucho para resolver ciertas operaciones como agrupar datos, calcular sumas, medias, etc. Te puede llegar a resultar muy útil generar un DataFrame nuevo con la data resumida."
   ]
  },
  {
   "cell_type": "code",
   "execution_count": null,
   "metadata": {
    "collapsed": true
   },
   "outputs": [],
   "source": []
  },
  {
   "cell_type": "markdown",
   "metadata": {},
   "source": [
    "## Paso 4. Refinando los datos y el análisis"
   ]
  },
  {
   "cell_type": "markdown",
   "metadata": {},
   "source": [
    "Empezá a buscar relaciones estadísticas, correlaciones entre las diferentes variables que te permitan abordar el problema "
   ]
  },
  {
   "cell_type": "code",
   "execution_count": null,
   "metadata": {
    "collapsed": true
   },
   "outputs": [],
   "source": []
  },
  {
   "cell_type": "markdown",
   "metadata": {},
   "source": [
    "## Paso 5. Construí los modelos"
   ]
  },
  {
   "cell_type": "markdown",
   "metadata": {},
   "source": [
    "Usando scikit-learn o statsmodels empezá la construcción de los modelos que sean necesarios para el problema platneado en tu escenario. Evaluá el ajuste del/los modelo/s. "
   ]
  },
  {
   "cell_type": "code",
   "execution_count": 11,
   "metadata": {
    "collapsed": true
   },
   "outputs": [],
   "source": [
    "from sklearn import linear_model"
   ]
  },
  {
   "cell_type": "markdown",
   "metadata": {},
   "source": [
    "### Ploteá los resultados y analizalos"
   ]
  },
  {
   "cell_type": "markdown",
   "metadata": {},
   "source": [
    "Asegurate de que registrar toda la información que agrege valor a tud datos. Por ejemplo, en el escenario de impuestos, ¿encontraste que las ventas de los primeros tres meses del año son un buen predictor de las ventas totales del año?  Plotéa los valores predichos por tu(s) modelo(s) contra los valores observados y hacé un análisis de los alcances y limitaciones de dichos modelos."
   ]
  },
  {
   "cell_type": "code",
   "execution_count": null,
   "metadata": {
    "collapsed": true
   },
   "outputs": [],
   "source": []
  },
  {
   "cell_type": "markdown",
   "metadata": {},
   "source": [
    "## Paso 6. Presentá los resultados"
   ]
  },
  {
   "cell_type": "markdown",
   "metadata": {},
   "source": [
    "Presentá tus conclusiones y resultados. Si encontraste más de un modelo interesante, sentite libre de incluirlos (junto con un análisis de cada uno). Usá el trabajo en este notebook para preparar el escrito."
   ]
  },
  {
   "cell_type": "code",
   "execution_count": null,
   "metadata": {
    "collapsed": true
   },
   "outputs": [],
   "source": []
  }
 ],
 "metadata": {
  "kernelspec": {
   "display_name": "Python 3",
   "language": "python",
   "name": "python3"
  },
  "language_info": {
   "codemirror_mode": {
    "name": "ipython",
    "version": 3
   },
   "file_extension": ".py",
   "mimetype": "text/x-python",
   "name": "python",
   "nbconvert_exporter": "python",
   "pygments_lexer": "ipython3",
   "version": "3.6.5"
  }
 },
 "nbformat": 4,
 "nbformat_minor": 2
}
