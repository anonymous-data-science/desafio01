{
 "cells": [
  {
   "cell_type": "code",
   "execution_count": null,
   "metadata": {},
   "outputs": [],
   "source": [
    "#Proceso04\n",
    "#limpieza especificas para departamentos\n",
    "#visualizar mapa palermo y departamentos\n",
    "#recupero de muestra para RL"
   ]
  },
  {
   "cell_type": "code",
   "execution_count": null,
   "metadata": {},
   "outputs": [],
   "source": [
    "import pandas as pd\n",
    "import numpy as np\n",
    "import geopandas as gpd\n",
    "import fiona\n",
    "import rtree\n",
    "import folium\n",
    "import joypy\n",
    "\n",
    "import matplotlib.pyplot as plt\n",
    "%matplotlib inline\n",
    "\n",
    "import seaborn as sns\n",
    "sns.set(style = \"whitegrid\")\n",
    "\n",
    "from geopandas.tools import sjoin\n",
    "from shapely.geometry import shape,mapping,Point,Polygon\n",
    "\n",
    "pd.options.display.max_rows = 10"
   ]
  },
  {
   "cell_type": "code",
   "execution_count": null,
   "metadata": {},
   "outputs": [],
   "source": [
    "#funciones graficas\n",
    "\n",
    "def plot_dist(lista):\n",
    "    '''\n",
    "    Input: serie\n",
    "    Return: subplots con la distribucion original boxplot e hist&kde\n",
    "    '''\n",
    "    plt.figure(figsize=(12,8))\n",
    "    \n",
    "    plt.subplot(211)\n",
    "    sns.boxplot(lista)\n",
    "    plt.title(f'{lista.name}\\n Max={np.max(lista):.0f} Median={np.median(lista):.0f} Min={np.min(lista):.0f}')\n",
    "\n",
    "    plt.subplot(212)\n",
    "    sns.distplot(lista)\n",
    "\n",
    "    plt.tight_layout()\n",
    "    plt.show()"
   ]
  },
  {
   "cell_type": "code",
   "execution_count": null,
   "metadata": {},
   "outputs": [],
   "source": [
    "#geopandas\n",
    "def from_wkt(df, wkt_column):\n",
    "    import shapely.wkt\n",
    "    df[\"coordinates\"]= df[wkt_column].apply(shapely.wkt.loads)\n",
    "    gdf = gpd.GeoDataFrame(barrios, geometry='coordinates')\n",
    "    return gdf\n",
    "\n",
    "def from_x_y(df, x, y):\n",
    "    gdf = gpd.GeoDataFrame(df.drop([x, y], axis=1),\n",
    "                                crs={'init': 'epsg:4326'},\n",
    "                                geometry=[Point(xy) for xy in zip(df[x], df[y])])\n",
    "    return gdf"
   ]
  },
  {
   "cell_type": "code",
   "execution_count": null,
   "metadata": {},
   "outputs": [],
   "source": [
    "#geopandas distancia entre polygono y puntos\n",
    "def distancia(poligono,punto):\n",
    "    dist = poligono.geometry.distance(punto)\n",
    "    dist_sort = dist.sort_values(ascending=True)\n",
    "    \n",
    "    return dist_sort[0]"
   ]
  },
  {
   "cell_type": "code",
   "execution_count": null,
   "metadata": {},
   "outputs": [],
   "source": [
    "#levatamos los barrios\n",
    "barrios = pd.read_csv(\"../data/barrios.csv\", encoding='latin1')\n",
    "barrios = from_wkt(barrios, \"WKT\")"
   ]
  },
  {
   "cell_type": "code",
   "execution_count": null,
   "metadata": {},
   "outputs": [],
   "source": [
    "barrios.head()"
   ]
  },
  {
   "cell_type": "code",
   "execution_count": null,
   "metadata": {},
   "outputs": [],
   "source": [
    "#recuperamos la salida del proceso03\n",
    "propiedades = pd.read_csv('../data/out_proceso03.csv', decimal=\".\")\n",
    "\n",
    "#se aplican nuevos filtros para seleccionar el barrio en que vamos a trabajar -> palermo\n",
    "analizar = propiedades[(propiedades['provincia'] == 'capital federal') & \n",
    "                       (propiedades['tipo_propiedad'] == 'departamento') &\n",
    "                       (propiedades['ciudad_barrio'] == 'palermo') &\n",
    "                       (propiedades['emprendimiento'] == False) &\n",
    "                       (propiedades['lat'].notnull()) &\n",
    "                       (propiedades['lon'].notnull()) &\n",
    "                       (propiedades['valor_m2'] > 1300) & \n",
    "                       (propiedades['valor_m2'] < 5300) & \n",
    "                       (propiedades['sup_m2'] > 10) &\n",
    "                       (propiedades['sup_m2'] < 600)\n",
    "                      ].copy()\n",
    "\n",
    "#se descartan posibles errores de carga sobre tipo de propiedad\n",
    "analizar.loc[analizar['titulo'].str.contains(\"chalet|duplex|ph\"), 'tipo_propiedad'] = \"error\"\n",
    "analizar.loc[analizar['descripcion'].str.contains(\"chalet|duplex|ph\"), 'tipo_propiedad'] = \"error\"\n",
    "\n",
    "#nos quedamos solo con los departamentos\n",
    "analizar = analizar[(analizar['tipo_propiedad'] == 'departamento')]\n",
    "\n",
    "dfTemp = pd.DataFrame(analizar['descripcion'].copy())\n",
    "\n",
    "#dfTemp['titulo'].replace('( )', '', regex=True, inplace=True)\n",
    "dfTemp['descripcion'].replace('( )', '', regex=True, inplace=True)\n",
    "dfTemp.columns=['descripciontrip']\n",
    "analizar = analizar.join(dfTemp)\n",
    "\n",
    "# Eliminar duplicados en descripcion y titulo\n",
    "analizar.drop_duplicates(['descripciontrip'], inplace=True)\n",
    "analizar.drop_duplicates(['titulo'], inplace=True)\n",
    "\n",
    "analizar = from_x_y(analizar, 'lon', 'lat')"
   ]
  },
  {
   "cell_type": "code",
   "execution_count": null,
   "metadata": {},
   "outputs": [],
   "source": [
    "analizar.head()"
   ]
  },
  {
   "cell_type": "code",
   "execution_count": null,
   "metadata": {},
   "outputs": [],
   "source": [
    "analizar.reset_index(drop=True, inplace=True)\n",
    "analizar.shape"
   ]
  },
  {
   "cell_type": "code",
   "execution_count": null,
   "metadata": {},
   "outputs": [],
   "source": [
    "#poligono del aeroparque\n",
    "libertador_alcorta = gpd.GeoDataFrame.from_file(\"../data/aeroparque/aeroparque_poly.shp\")\n",
    "\n",
    "#departamentos en aeroparque\n",
    "en_aeroparque = gpd.sjoin(analizar,libertador_alcorta,how=\"inner\")\n",
    "\n",
    "#eliminamos rows de deptos sobre el aeroparque\n",
    "analizar.drop(analizar.index[[en_aeroparque.index.values]],inplace=True)\n",
    "\n",
    "analizar.shape"
   ]
  },
  {
   "cell_type": "code",
   "execution_count": null,
   "metadata": {},
   "outputs": [],
   "source": [
    "#nos quedamos solo con los departamentos que se encuentran dentro de palermo\n",
    "palermo = barrios[barrios['BARRIO']=='PALERMO']\n",
    "\n",
    "analizar = analizar[analizar.intersects(palermo.unary_union)]\n",
    "\n",
    "analizar.shape"
   ]
  },
  {
   "cell_type": "code",
   "execution_count": null,
   "metadata": {},
   "outputs": [],
   "source": [
    "m = folium.Map([-34.606359, -58.443863], zoom_start=12, tiles=\"OpenStreetMap\")\n",
    "folium.GeoJson(palermo.to_json()).add_to(m)\n",
    "folium.GeoJson(analizar.to_json()).add_to(m)\n",
    "m"
   ]
  },
  {
   "cell_type": "code",
   "execution_count": null,
   "metadata": {},
   "outputs": [],
   "source": [
    "sns.heatmap(analizar[['precio','sup_m2','valor_m2','expensas','dormitorios','ambientes','seguridad','banos']].corr(), square=True, annot=True, cmap=\"YlGnBu\")"
   ]
  },
  {
   "cell_type": "code",
   "execution_count": null,
   "metadata": {},
   "outputs": [],
   "source": [
    "analizar.groupby(['ciudad_barrio']).agg({'valor_m2':['count','mean','max','min','std']})"
   ]
  },
  {
   "cell_type": "code",
   "execution_count": null,
   "metadata": {},
   "outputs": [],
   "source": [
    "plot_dist(analizar.valor_m2)"
   ]
  },
  {
   "cell_type": "code",
   "execution_count": null,
   "metadata": {},
   "outputs": [],
   "source": [
    "#sup_m2 vs precio\n",
    "muestra = analizar.sample(frac=0.50)\n",
    "\n",
    "# Gráfico con línea de regresión\n",
    "plt.figure(figsize = (20,10))\n",
    "sns.regplot(x=muestra[\"sup_m2\"], y=muestra[\"precio\"])"
   ]
  },
  {
   "cell_type": "code",
   "execution_count": null,
   "metadata": {},
   "outputs": [],
   "source": [
    "#sup_m2 vs valor_m2\n",
    "muestra = analizar.sample(frac=0.50)\n",
    "\n",
    "# Gráfico con línea de regresión\n",
    "plt.figure(figsize = (20,10))\n",
    "sns.regplot(x=muestra[\"sup_m2\"], y=muestra[\"valor_m2\"])"
   ]
  },
  {
   "cell_type": "code",
   "execution_count": null,
   "metadata": {},
   "outputs": [],
   "source": [
    "#valor_m2 -> palermo vs palermo sin barrios vs palermo con barrio\n",
    "\n",
    "#palermo\n",
    "p_psb_pcb = analizar[['ciudad_barrio','valor_m2','expensas']].copy()\n",
    "p_psb_pcb.columns=['barrio','valor_m2','expensas']\n",
    "\n",
    "#palermo sin barrio\n",
    "dfTemp = analizar[analizar['barrio'].isnull()][['barrio','valor_m2','expensas']].copy()\n",
    "dfTemp['barrio'] = 'sin barrio'\n",
    "\n",
    "p_psb_pcb = pd.concat([p_psb_pcb, dfTemp], sort=True, axis=0)\n",
    "\n",
    "#palermo con palermo chico\n",
    "dfTemp = analizar[analizar['barrio']==\"palermo chico\"][['barrio','valor_m2','expensas']].copy()\n",
    "\n",
    "p_psb_pcb = pd.concat([p_psb_pcb, dfTemp], sort=True, axis=0)\n",
    "\n",
    "#palermo con palermo chico\n",
    "dfTemp = analizar[analizar['barrio']==\"palermo soho\"][['barrio','valor_m2','expensas']].copy()\n",
    "\n",
    "p_psb_pcb = pd.concat([p_psb_pcb, dfTemp], sort=True, axis=0)\n",
    "\n",
    "#palermo con palermo hollywood\n",
    "dfTemp = analizar[analizar['barrio']==\"palermo hollywood\"][['barrio','valor_m2','expensas']].copy()\n",
    "\n",
    "p_psb_pcb = pd.concat([p_psb_pcb, dfTemp], sort=True, axis=0)\n",
    "\n",
    "fig, axes = joypy.joyplot(p_psb_pcb, by=\"barrio\", column=\"valor_m2\", x_range=[500,8000], figsize=(20,10))"
   ]
  },
  {
   "cell_type": "code",
   "execution_count": null,
   "metadata": {},
   "outputs": [],
   "source": [
    "#palermo con palermo viejo\n",
    "dfTemp = analizar[analizar['barrio']==\"palermo viejo\"][['barrio','valor_m2','expensas']].copy()\n",
    "\n",
    "p_psb_pcb = pd.concat([p_psb_pcb, dfTemp], sort=True, axis=0)\n",
    "\n",
    "\n",
    "fig, axes = joypy.joyplot(p_psb_pcb, by=\"barrio\", column=\"valor_m2\",\n",
    "                          hist=\"True\", bins=50, overlap=0,\n",
    "                          grid=True, legend=False, x_range=[600,6000], figsize=(20,10), ylabelsize=18, xlabelsize=18)"
   ]
  },
  {
   "cell_type": "code",
   "execution_count": null,
   "metadata": {},
   "outputs": [],
   "source": [
    "p_psb_pcb.groupby('barrio').count()"
   ]
  },
  {
   "cell_type": "code",
   "execution_count": null,
   "metadata": {},
   "outputs": [],
   "source": [
    "p_psb_pcb.groupby('barrio')['valor_m2'].agg(['mean','max','min']).plot.bar()"
   ]
  },
  {
   "cell_type": "code",
   "execution_count": null,
   "metadata": {},
   "outputs": [],
   "source": [
    "p_psb_pcb.groupby('barrio')['expensas'].agg(['mean','max','min']).plot.bar()"
   ]
  },
  {
   "cell_type": "code",
   "execution_count": null,
   "metadata": {},
   "outputs": [],
   "source": [
    "# Ploteamos el histograma de Precio\n",
    "plt.figure(figsize=(10,6))\n",
    "\n",
    "plt.hist(analizar['precio'], bins=35, color='lightblue')\n",
    "plt.xlabel('Precio aprox USD')\n",
    "plt.ylabel('Frecuencia')\n",
    "plt.title('Histograma - Precio Medio: u$d ' + str(\"{0:.2f}\".format(analizar['precio'].mean())))\n",
    "plt.grid(True)\n",
    "plt.show()"
   ]
  },
  {
   "cell_type": "code",
   "execution_count": null,
   "metadata": {},
   "outputs": [],
   "source": [
    "# Ploteamos el histograma de valor_m2\n",
    "plt.figure(figsize=(10,6))\n",
    "\n",
    "plt.hist(analizar['valor_m2'], bins=35, color='lightblue')\n",
    "plt.xlabel('Precio aprox USD')\n",
    "plt.ylabel('Frecuencia')\n",
    "plt.title('Histograma - Valor M2 Medio: u$d ' + str(\"{0:.2f}\".format(analizar['valor_m2'].mean())))\n",
    "plt.grid(True)\n",
    "plt.show()"
   ]
  },
  {
   "cell_type": "code",
   "execution_count": null,
   "metadata": {},
   "outputs": [],
   "source": [
    "# Ploteamos el histograma de expensas\n",
    "plt.figure(figsize=(10,6))\n",
    "\n",
    "#se reemplaza string np.nan por 0\n",
    "analizar['expensas'].replace(to_replace=np.nan, value=0, inplace=True)\n",
    "\n",
    "plt.hist(analizar['expensas'], bins=10, color='lightblue')\n",
    "plt.xlabel('Expensas')\n",
    "plt.ylabel('Frecuencia')\n",
    "plt.title('Histograma - Media Expensas: $' + str(\"{0:.2f}\".format(analizar['expensas'].mean())))\n",
    "plt.grid(True)\n",
    "plt.show()"
   ]
  },
  {
   "cell_type": "code",
   "execution_count": null,
   "metadata": {},
   "outputs": [],
   "source": [
    "# Ploteamos el histograma con Sup Cubierta\n",
    "\n",
    "plt.figure(figsize=(10,6))\n",
    "\n",
    "#se reemplaza string np.nan por 0\n",
    "analizar['sup_m2_cubiertos'].replace(to_replace=np.nan, value=0, inplace=True)\n",
    "\n",
    "plt.hist(analizar['sup_m2_cubiertos'], bins=35, color='lightblue')\n",
    "plt.xlabel('Sup cubierta')\n",
    "plt.ylabel('Frecuencia')\n",
    "plt.title('Histograma - Sup Media: ' + str(\"{0:.2f}\".format(analizar['sup_m2_cubiertos'].mean())) + 'm2')\n",
    "plt.grid(True)\n",
    "plt.show()"
   ]
  },
  {
   "cell_type": "code",
   "execution_count": null,
   "metadata": {},
   "outputs": [],
   "source": [
    "#levantamos los poligonos generados para generar nuevas columnas\n",
    "libertador_alcorta = gpd.GeoDataFrame.from_file(\"../data/avenidas/avLibertador_avAlcorta_poly.shp\")\n",
    "\n",
    "plaza_parque = gpd.GeoDataFrame.from_file(\"../data/plaza/plazayparques_poly.shp\")\n",
    "\n",
    "subte = gpd.GeoDataFrame.from_file(\"../data/subte/subte_poly.shp\")\n",
    "\n",
    "metrobus = gpd.GeoDataFrame.from_file(\"../data/metrobus/metrobus_poly.shp\")"
   ]
  },
  {
   "cell_type": "code",
   "execution_count": null,
   "metadata": {},
   "outputs": [],
   "source": [
    "#segun distancia al plazas y espacios verdes\n",
    "\n",
    "dfTemp = pd.DataFrame(analizar.apply(lambda x: distancia(plaza_parque, x['geometry']), axis=1))\n",
    "\n",
    "#se renombran la columna nueva\n",
    "dfTemp.columns=['dist_plazas']\n",
    "\n",
    "#se suma al df la nueva columna dist_plazas\n",
    "analizar = analizar.join(dfTemp)\n",
    "\n",
    "m = folium.Map([-34.606359, -58.443863], zoom_start=12, tiles=\"OpenStreetMap\")\n",
    "folium.GeoJson(plaza_parque.to_json()).add_to(m)\n",
    "m\n"
   ]
  },
  {
   "cell_type": "code",
   "execution_count": null,
   "metadata": {},
   "outputs": [],
   "source": [
    "#segun distancia al subte\n",
    "\n",
    "dfTemp = pd.DataFrame(analizar.apply(lambda x: distancia(subte, x['geometry']), axis=1))\n",
    "\n",
    "#se renombran la columna nueva\n",
    "dfTemp.columns=['dist_subte']\n",
    "\n",
    "#se suma al df la nueva columna dist_subte\n",
    "analizar = analizar.join(dfTemp)\n",
    "\n",
    "m = folium.Map([-34.606359, -58.443863], zoom_start=12, tiles=\"OpenStreetMap\")\n",
    "folium.GeoJson(subte.to_json()).add_to(m)\n",
    "m\n"
   ]
  },
  {
   "cell_type": "code",
   "execution_count": null,
   "metadata": {},
   "outputs": [],
   "source": [
    "#segun distancia al metrobus\n",
    "\n",
    "dfTemp = pd.DataFrame(analizar.apply(lambda x: distancia(metrobus, x['geometry']), axis=1))\n",
    "\n",
    "#se renombran la columna nueva\n",
    "dfTemp.columns=['dist_metrobus']\n",
    "\n",
    "#se suma al df la nueva columna dist_metrobus\n",
    "analizar = analizar.join(dfTemp)\n",
    "\n",
    "m = folium.Map([-34.606359, -58.443863], zoom_start=12, tiles=\"OpenStreetMap\")\n",
    "folium.GeoJson(metrobus.to_json()).add_to(m)\n",
    "m\n"
   ]
  },
  {
   "cell_type": "code",
   "execution_count": null,
   "metadata": {},
   "outputs": [],
   "source": [
    "# dentro de las 3 cuadras de av libertador y av alcorta\n",
    "dfTemp = pd.DataFrame(analizar.apply(lambda x: distancia(libertador_alcorta, x['geometry']), axis=1))\n",
    "\n",
    "#se renombran la columna nueva\n",
    "dfTemp.columns=['dist_lib_alc']\n",
    "\n",
    "#se suma al df la nueva columna dist_lib_alc\n",
    "analizar = analizar.join(dfTemp)\n",
    "\n",
    "\n",
    "m = folium.Map([-34.606359, -58.443863], zoom_start=12, tiles=\"OpenStreetMap\")\n",
    "folium.GeoJson(libertador_alcorta.to_json()).add_to(m)\n",
    "m\n"
   ]
  },
  {
   "cell_type": "code",
   "execution_count": null,
   "metadata": {},
   "outputs": [],
   "source": [
    "analizar"
   ]
  },
  {
   "cell_type": "code",
   "execution_count": null,
   "metadata": {},
   "outputs": [],
   "source": [
    "#se guarda csv completo\n",
    "analizar.to_dense().to_csv(\"../data/out_proceso04.csv\", index = False, sep=',', encoding='utf-8')"
   ]
  }
 ],
 "metadata": {
  "kernelspec": {
   "display_name": "Python 3",
   "language": "python",
   "name": "python3"
  },
  "language_info": {
   "codemirror_mode": {
    "name": "ipython",
    "version": 3
   },
   "file_extension": ".py",
   "mimetype": "text/x-python",
   "name": "python",
   "nbconvert_exporter": "python",
   "pygments_lexer": "ipython3",
   "version": "3.6.5"
  }
 },
 "nbformat": 4,
 "nbformat_minor": 2
}
