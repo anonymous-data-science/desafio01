{
 "cells": [
  {
   "cell_type": "code",
   "execution_count": null,
   "metadata": {},
   "outputs": [],
   "source": [
    "#Proceso04\n",
    "#limpieza especificas para departamentos\n",
    "#visualizar mapa palermo y departamentos\n",
    "#recupero de muestra para RL"
   ]
  },
  {
   "cell_type": "code",
   "execution_count": null,
   "metadata": {},
   "outputs": [],
   "source": [
    "import pandas as pd\n",
    "import numpy as np\n",
    "import geopandas\n",
    "import fiona\n",
    "import rtree\n",
    "import folium\n",
    "import joypy\n",
    "\n",
    "from shapely.geometry import Point, Polygon\n",
    "\n",
    "#pd.options.display.max_rows = 10"
   ]
  },
  {
   "cell_type": "code",
   "execution_count": null,
   "metadata": {},
   "outputs": [],
   "source": [
    "import matplotlib.pyplot as plt\n",
    "%matplotlib inline\n",
    "import seaborn as sns\n",
    "sns.set(style = \"whitegrid\")\n",
    "\n",
    "import matplotlib.pyplot as plt\n",
    "\n",
    "#funciones graficas\n",
    "\n",
    "def plot_dist(lista):\n",
    "    '''\n",
    "    Input: serie\n",
    "    Return: subplots con la distribucion original boxplot e hist&kde\n",
    "    '''\n",
    "    plt.figure(figsize=(12,8))\n",
    "    \n",
    "    plt.subplot(211)\n",
    "    sns.boxplot(lista)\n",
    "    plt.title(f'{lista.name}\\n Max={np.max(lista):.0f} Median={np.median(lista):.0f} Min={np.min(lista):.0f}')\n",
    "\n",
    "    plt.subplot(212)\n",
    "    sns.distplot(lista)\n",
    "\n",
    "    plt.tight_layout()\n",
    "    plt.show()"
   ]
  },
  {
   "cell_type": "code",
   "execution_count": null,
   "metadata": {},
   "outputs": [],
   "source": [
    "#geopandas\n",
    "def from_wkt(df, wkt_column):\n",
    "    import shapely.wkt\n",
    "    df[\"coordinates\"]= df[wkt_column].apply(shapely.wkt.loads)\n",
    "    gdf = geopandas.GeoDataFrame(barrios, geometry='coordinates')\n",
    "    return gdf\n",
    "\n",
    "def from_x_y(df, x, y):\n",
    "    gdf = geopandas.GeoDataFrame(df.drop([x, y], axis=1),\n",
    "                                crs={'init': 'epsg:4326'},\n",
    "                                geometry=[Point(xy) for xy in zip(df[x], df[y])])\n",
    "    return gdf"
   ]
  },
  {
   "cell_type": "code",
   "execution_count": null,
   "metadata": {},
   "outputs": [],
   "source": [
    "barrios = pd.read_csv(\"../data/barrios.csv\", encoding='latin1')\n",
    "\n",
    "barrios = from_wkt(barrios, \"WKT\")"
   ]
  },
  {
   "cell_type": "code",
   "execution_count": null,
   "metadata": {},
   "outputs": [],
   "source": [
    "barrios.head()"
   ]
  },
  {
   "cell_type": "code",
   "execution_count": null,
   "metadata": {},
   "outputs": [],
   "source": [
    "propiedades = pd.read_csv('../data/out_proceso03.csv', decimal=\".\")\n",
    "\n",
    "#se aplican nuevos filtros para seleccionar el barrio en que vamos a trabajar -> palermo\n",
    "analizar = propiedades[(propiedades['provincia'] == 'capital federal') & \n",
    "                       (propiedades['tipo_propiedad'] == 'departamento') &\n",
    "                       (propiedades['ciudad_barrio'] == 'palermo') &\n",
    "                       (propiedades['emprendimiento'] == False) &\n",
    "                       (propiedades['lat'].notnull()) &\n",
    "                       (propiedades['lon'].notnull()) &\n",
    "                       (propiedades['valor_m2'] > 1300) & \n",
    "                       (propiedades['valor_m2'] < 5300) & \n",
    "                       (propiedades['sup_m2'] > 10) &\n",
    "                       (propiedades['sup_m2'] < 600)\n",
    "                      ].copy()\n",
    "\n",
    "#se descartan posibles errores de carga sobre tipo de propiedad\n",
    "analizar.loc[analizar['titulo'].str.contains(\"chalet|duplex|ph\"), 'tipo_propiedad'] = \"error\"\n",
    "analizar.loc[analizar['descripcion'].str.contains(\"chalet|duplex|ph\"), 'tipo_propiedad'] = \"error\"\n",
    "\n",
    "#nos quedamos solo con los departamentos\n",
    "analizar = analizar[(analizar['tipo_propiedad'] == 'departamento')]\n",
    "\n",
    "dfTemp = pd.DataFrame(analizar['descripcion'].copy())\n",
    "\n",
    "#dfTemp['titulo'].replace('( )', '', regex=True, inplace=True)\n",
    "dfTemp['descripcion'].replace('( )', '', regex=True, inplace=True)\n",
    "dfTemp.columns=['descripciontrip']\n",
    "analizar = analizar.join(dfTemp)\n",
    "\n",
    "# Eliminar duplicados en descripcion y titulo\n",
    "analizar.drop_duplicates(['descripciontrip'], inplace=True)\n",
    "analizar.drop_duplicates(['titulo'], inplace=True)\n",
    "\n",
    "analizar = from_x_y(analizar, 'lon', 'lat')"
   ]
  },
  {
   "cell_type": "code",
   "execution_count": null,
   "metadata": {},
   "outputs": [],
   "source": [
    "analizar.head()"
   ]
  },
  {
   "cell_type": "code",
   "execution_count": null,
   "metadata": {},
   "outputs": [],
   "source": [
    "palermo = barrios[barrios['BARRIO']=='PALERMO']\n",
    "\n",
    "analizar = analizar[analizar.intersects(palermo.unary_union)]\n",
    "\n",
    "analizar.shape"
   ]
  },
  {
   "cell_type": "code",
   "execution_count": null,
   "metadata": {},
   "outputs": [],
   "source": [
    "m = folium.Map([-34.606359, -58.443863], zoom_start=12, tiles=\"OpenStreetMap\")\n",
    "folium.GeoJson(palermo.to_json()).add_to(m)\n",
    "folium.GeoJson(analizar.to_json()).add_to(m)\n",
    "m"
   ]
  },
  {
   "cell_type": "code",
   "execution_count": null,
   "metadata": {},
   "outputs": [],
   "source": [
    "sns.heatmap(analizar[['precio','sup_m2','valor_m2','expensas','dormitorios','ambientes','seguridad','banos']].corr(), square=True, annot=True, cmap=\"YlGnBu\")"
   ]
  },
  {
   "cell_type": "code",
   "execution_count": null,
   "metadata": {},
   "outputs": [],
   "source": [
    "analizar.groupby(['ciudad_barrio']).agg({'valor_m2':['count','mean','max','min','std']})"
   ]
  },
  {
   "cell_type": "code",
   "execution_count": null,
   "metadata": {},
   "outputs": [],
   "source": [
    "plot_dist(analizar.valor_m2)"
   ]
  },
  {
   "cell_type": "code",
   "execution_count": null,
   "metadata": {},
   "outputs": [],
   "source": [
    "#sup_m2 vs precio\n",
    "muestra = analizar.sample(frac=0.50)\n",
    "\n",
    "# Gráfico con línea de regresión\n",
    "plt.figure(figsize = (20,10))\n",
    "sns.regplot(x=muestra[\"sup_m2\"], y=muestra[\"precio\"])"
   ]
  },
  {
   "cell_type": "code",
   "execution_count": null,
   "metadata": {},
   "outputs": [],
   "source": [
    "#sup_m2 vs valor_m2\n",
    "muestra = analizar.sample(frac=0.50)\n",
    "\n",
    "# Gráfico con línea de regresión\n",
    "plt.figure(figsize = (20,10))\n",
    "sns.regplot(x=muestra[\"sup_m2\"], y=muestra[\"valor_m2\"])"
   ]
  },
  {
   "cell_type": "code",
   "execution_count": null,
   "metadata": {},
   "outputs": [],
   "source": [
    "#valor_m2 -> palermo vs palermo sin barrios vs palermo con barrio\n",
    "\n",
    "#palermo\n",
    "p_psb_pcb = analizar[['ciudad_barrio','valor_m2','expensas']].copy()\n",
    "p_psb_pcb.columns=['barrio','valor_m2','expensas']\n",
    "\n",
    "#palermo sin barrio\n",
    "dfTemp = analizar[analizar['barrio'].isnull()][['barrio','valor_m2','expensas']].copy()\n",
    "dfTemp['barrio'] = 'sin barrio'\n",
    "\n",
    "p_psb_pcb = pd.concat([p_psb_pcb, dfTemp], sort=True, axis=0)\n",
    "\n",
    "#palermo con palermo chico\n",
    "dfTemp = analizar[analizar['barrio']==\"palermo chico\"][['barrio','valor_m2','expensas']].copy()\n",
    "\n",
    "p_psb_pcb = pd.concat([p_psb_pcb, dfTemp], sort=True, axis=0)\n",
    "\n",
    "#palermo con palermo chico\n",
    "dfTemp = analizar[analizar['barrio']==\"palermo soho\"][['barrio','valor_m2','expensas']].copy()\n",
    "\n",
    "p_psb_pcb = pd.concat([p_psb_pcb, dfTemp], sort=True, axis=0)\n",
    "\n",
    "#palermo con palermo hollywood\n",
    "dfTemp = analizar[analizar['barrio']==\"palermo hollywood\"][['barrio','valor_m2','expensas']].copy()\n",
    "\n",
    "p_psb_pcb = pd.concat([p_psb_pcb, dfTemp], sort=True, axis=0)\n",
    "\n",
    "fig, axes = joypy.joyplot(p_psb_pcb, by=\"barrio\", column=\"valor_m2\", x_range=[500,8000], figsize=(20,10))"
   ]
  },
  {
   "cell_type": "code",
   "execution_count": null,
   "metadata": {},
   "outputs": [],
   "source": [
    "#palermo con palermo viejo\n",
    "dfTemp = analizar[analizar['barrio']==\"palermo viejo\"][['barrio','valor_m2','expensas']].copy()\n",
    "\n",
    "p_psb_pcb = pd.concat([p_psb_pcb, dfTemp], sort=True, axis=0)\n",
    "\n",
    "\n",
    "fig, axes = joypy.joyplot(p_psb_pcb, by=\"barrio\", column=\"valor_m2\",\n",
    "                          hist=\"True\", bins=50, overlap=0,\n",
    "                          grid=True, legend=False, x_range=[600,6000], figsize=(20,10), ylabelsize=18, xlabelsize=18)"
   ]
  },
  {
   "cell_type": "code",
   "execution_count": null,
   "metadata": {},
   "outputs": [],
   "source": [
    "p_psb_pcb.groupby('barrio').count()"
   ]
  },
  {
   "cell_type": "code",
   "execution_count": null,
   "metadata": {},
   "outputs": [],
   "source": [
    "p_psb_pcb.groupby('barrio')['valor_m2'].agg(['mean','max','min']).plot.bar()"
   ]
  },
  {
   "cell_type": "code",
   "execution_count": null,
   "metadata": {},
   "outputs": [],
   "source": [
    "p_psb_pcb.groupby('barrio')['expensas'].agg(['mean','max','min']).plot.bar()"
   ]
  },
  {
   "cell_type": "code",
   "execution_count": null,
   "metadata": {},
   "outputs": [],
   "source": [
    "# Ploteamos el histograma de Precio\n",
    "plt.figure(figsize=(10,6))\n",
    "\n",
    "plt.hist(analizar['precio'], bins=35, color='lightblue')\n",
    "plt.xlabel('Precio aprox USD')\n",
    "plt.ylabel('Frecuencia')\n",
    "plt.title('Histograma - Precio Medio: u$d ' + str(\"{0:.2f}\".format(analizar['precio'].mean())))\n",
    "plt.grid(True)\n",
    "plt.show()"
   ]
  },
  {
   "cell_type": "code",
   "execution_count": null,
   "metadata": {},
   "outputs": [],
   "source": [
    "# Ploteamos el histograma de valor_m2\n",
    "plt.figure(figsize=(10,6))\n",
    "\n",
    "plt.hist(analizar['valor_m2'], bins=35, color='lightblue')\n",
    "plt.xlabel('Precio aprox USD')\n",
    "plt.ylabel('Frecuencia')\n",
    "plt.title('Histograma - Valor M2 Medio: u$d ' + str(\"{0:.2f}\".format(analizar['valor_m2'].mean())))\n",
    "plt.grid(True)\n",
    "plt.show()"
   ]
  },
  {
   "cell_type": "code",
   "execution_count": null,
   "metadata": {},
   "outputs": [],
   "source": [
    "# Ploteamos el histograma de expensas\n",
    "plt.figure(figsize=(10,6))\n",
    "\n",
    "#se reemplaza string np.nan por 0\n",
    "analizar['expensas'].replace(to_replace=np.nan, value=0, inplace=True)\n",
    "\n",
    "plt.hist(analizar['expensas'], bins=10, color='lightblue')\n",
    "plt.xlabel('Expensas')\n",
    "plt.ylabel('Frecuencia')\n",
    "plt.title('Histograma - Media Expensas: $' + str(\"{0:.2f}\".format(analizar['expensas'].mean())))\n",
    "plt.grid(True)\n",
    "plt.show()"
   ]
  },
  {
   "cell_type": "code",
   "execution_count": null,
   "metadata": {},
   "outputs": [],
   "source": [
    "# Ploteamos el histograma con Sup Cubierta\n",
    "\n",
    "plt.figure(figsize=(10,6))\n",
    "\n",
    "#se reemplaza string np.nan por 0\n",
    "analizar['sup_m2_cubiertos'].replace(to_replace=np.nan, value=0, inplace=True)\n",
    "\n",
    "plt.hist(analizar['sup_m2_cubiertos'], bins=35, color='lightblue')\n",
    "plt.xlabel('Sup cubierta')\n",
    "plt.ylabel('Frecuencia')\n",
    "plt.title('Histograma - Sup Media: ' + str(\"{0:.2f}\".format(analizar['sup_m2_cubiertos'].mean())) + 'm2')\n",
    "plt.grid(True)\n",
    "plt.show()"
   ]
  }
 ],
 "metadata": {
  "kernelspec": {
   "display_name": "Python 3",
   "language": "python",
   "name": "python3"
  },
  "language_info": {
   "codemirror_mode": {
    "name": "ipython",
    "version": 3
   },
   "file_extension": ".py",
   "mimetype": "text/x-python",
   "name": "python",
   "nbconvert_exporter": "python",
   "pygments_lexer": "ipython3",
   "version": "3.6.5"
  }
 },
 "nbformat": 4,
 "nbformat_minor": 2
}
