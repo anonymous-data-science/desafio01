{
 "cells": [
  {
   "cell_type": "code",
   "execution_count": null,
   "metadata": {},
   "outputs": [],
   "source": [
    "#Proceso04\n",
    "#Interpretación de las variables\n",
    "\n",
    "#importando librerias que se piensan utilizar\n",
    "\n",
    "import numpy as np\n",
    "import pandas as pd\n",
    "import seaborn as sns\n",
    "import unidecode\n",
    "import re\n",
    "import pandas as pd"
   ]
  },
  {
   "cell_type": "code",
   "execution_count": null,
   "metadata": {},
   "outputs": [],
   "source": [
    "#leyedo datos de la salida de otro proceso\n",
    "dfLimpio = pd.read_csv('out/out_proceso02.csv', decimal=\".\")"
   ]
  },
  {
   "cell_type": "code",
   "execution_count": null,
   "metadata": {},
   "outputs": [],
   "source": [
    "#tamaño y forma del df\n",
    "dfLimpio.shape\n"
   ]
  },
  {
   "cell_type": "code",
   "execution_count": null,
   "metadata": {},
   "outputs": [],
   "source": [
    "dfLimpio.columns"
   ]
  },
  {
   "cell_type": "code",
   "execution_count": null,
   "metadata": {},
   "outputs": [],
   "source": [
    "#Filtro inicial sobre la informacion sobre la que vamos a trabajar\n",
    "# Capital Federal + Departamentos\n",
    "# 20 <= Sup <= 150\n",
    "\n",
    "dfFiltrado = dfLimpio[\n",
    "    (dfLimpio['provincia'] == 'capital federal') & \n",
    "    (dfLimpio['tipo_propiedad'] == 'departamento') &\n",
    "    (dfLimpio['ciudad_barrio'] == 'palermo') &\n",
    "    (dfLimpio['sup_m2'] >= 20) &\n",
    "    (dfLimpio['sup_m2'] <= 150) &\n",
    "    (dfLimpio['emprendimiento'] == False) &\n",
    "    (dfLimpio['en_pozo'] == False)\n",
    "    \n",
    "].copy()\n",
    "\n",
    "dfFiltrado_cub = dfLimpio[\n",
    "    (dfLimpio['provincia'] == 'capital federal') & \n",
    "    (dfLimpio['tipo_propiedad'] == 'departamento') &\n",
    "    (dfLimpio['sup_m2_cubiertos'] >= 20) &\n",
    "    (dfLimpio['sup_m2_cubiertos'] <= 150) &\n",
    "    (dfLimpio['emprendimiento'] == False) &\n",
    "    (dfLimpio['en_pozo'] == False)\n",
    "    \n",
    "].copy()\n",
    "\n",
    "dfFiltrado.shape"
   ]
  },
  {
   "cell_type": "code",
   "execution_count": null,
   "metadata": {},
   "outputs": [],
   "source": [
    "dfFiltrado.columns"
   ]
  },
  {
   "cell_type": "code",
   "execution_count": null,
   "metadata": {},
   "outputs": [],
   "source": [
    "# importo librerías para plotear\n",
    "\n",
    "import scipy.stats as st\n",
    "import numpy as np\n",
    "import matplotlib.mlab as mlab\n",
    "import matplotlib.pyplot as plt\n",
    "#%matplotlib inline"
   ]
  },
  {
   "cell_type": "code",
   "execution_count": null,
   "metadata": {},
   "outputs": [],
   "source": [
    "# Ploteamos el histograma con Sup Cubierta\n",
    "\n",
    "plt.figure(figsize=(10,6))\n",
    "\n",
    "#se reemplaza string np.nan por 0\n",
    "dfFiltrado_cub['sup_m2_cubiertos'].replace(to_replace=np.nan, value=0, inplace=True)\n",
    "\n",
    "plt.hist(dfFiltrado_cub['sup_m2_cubiertos'], bins=35, color='lightblue')\n",
    "plt.xlabel('Sup cubierta')\n",
    "plt.ylabel('Frecuencia')\n",
    "plt.title('Histograma - Sup Media: ' + str(\"{0:.2f}\".format(dfFiltrado_cub['sup_m2_cubiertos'].mean())) + 'm2')\n",
    "plt.grid(True)\n",
    "plt.show()\n",
    "\n"
   ]
  },
  {
   "cell_type": "code",
   "execution_count": null,
   "metadata": {},
   "outputs": [],
   "source": [
    "# Ploteamos el histograma con Sup Total \n",
    "\n",
    "plt.figure(figsize=(10,6))\n",
    "\n",
    "plt.hist(dfFiltrado['sup_m2'], bins=35, color='lightblue')\n",
    "plt.xlabel('Sup Total')\n",
    "plt.ylabel('Frecuencia')\n",
    "plt.title('Histograma - Sup Media: ' + str(\"{0:.2f}\".format(dfFiltrado['sup_m2'].mean())) + 'm2')\n",
    "plt.grid(True)\n",
    "plt.show()\n"
   ]
  },
  {
   "cell_type": "code",
   "execution_count": null,
   "metadata": {},
   "outputs": [],
   "source": [
    "# Ploteamos el histograma con Expensas\n",
    "#\n",
    "\n",
    "plt.figure(figsize=(10,6))\n",
    "\n",
    "#se reemplaza string np.nan por 0\n",
    "dfFiltrado['expensas'].replace(to_replace=np.nan, value=0, inplace=True)\n",
    "\n",
    "plt.hist(dfFiltrado['expensas'], bins=10, color='lightblue')\n",
    "plt.xlabel('Expensas')\n",
    "plt.ylabel('Frecuencia')\n",
    "plt.title('Histograma - Media Expensas: $' + str(\"{0:.2f}\".format(dfFiltrado['expensas'].mean())))\n",
    "plt.grid(True)\n",
    "plt.show()\n"
   ]
  },
  {
   "cell_type": "code",
   "execution_count": null,
   "metadata": {},
   "outputs": [],
   "source": [
    "# Ploteamos el histograma con Precio u$d\n",
    "#\n",
    "\n",
    "plt.figure(figsize=(10,6))\n",
    "\n",
    "#se reemplaza string np.nan por 0\n",
    "dfFiltrado['precio'].replace(to_replace=np.nan, value=0, inplace=True)\n",
    "\n",
    "plt.hist(dfFiltrado['precio'], bins=25, color='lightblue')\n",
    "plt.xlabel('precio u$d')\n",
    "plt.ylabel('Frecuencia')\n",
    "plt.title('Histograma - Media Precio: u$d' + str(\"{0:.2f}\".format(dfFiltrado['precio'].mean())))\n",
    "plt.grid(True)\n",
    "plt.show()\n"
   ]
  },
  {
   "cell_type": "code",
   "execution_count": null,
   "metadata": {},
   "outputs": [],
   "source": [
    "dfFiltrado.columns"
   ]
  },
  {
   "cell_type": "code",
   "execution_count": null,
   "metadata": {
    "scrolled": true
   },
   "outputs": [],
   "source": [
    "# Buscamos corelaciones entre variables\n",
    "\n",
    "sns.heatmap(\n",
    "    dfFiltrado[['precio','valor_m2','sup_m2','expensas']].corr(), \n",
    "    square=True, \n",
    "    annot=True, \n",
    "    cmap=\"YlGnBu\"\n",
    ")"
   ]
  },
  {
   "cell_type": "code",
   "execution_count": null,
   "metadata": {},
   "outputs": [],
   "source": [
    "# Ploteamos el histograma de Precio\n",
    "\n",
    "plt.figure(figsize=(10,6))\n",
    "\n",
    "#se reemplaza string np.nan por 0\n",
    "dfFiltrado['precio'].replace(to_replace=np.nan, value=0, inplace=True)\n",
    "\n",
    "plt.hist(dfFiltrado['precio'], bins=35, color='lightblue')\n",
    "plt.xlabel('Precio aprox USD')\n",
    "plt.ylabel('Frecuencia')\n",
    "plt.title('Histograma - Precio Medio: u$d ' + str(\"{0:.2f}\".format(dfFiltrado['precio'].mean())))\n",
    "plt.grid(True)\n",
    "plt.show()\n"
   ]
  },
  {
   "cell_type": "code",
   "execution_count": null,
   "metadata": {},
   "outputs": [],
   "source": []
  }
 ],
 "metadata": {
  "kernelspec": {
   "display_name": "Python 3",
   "language": "python",
   "name": "python3"
  },
  "language_info": {
   "codemirror_mode": {
    "name": "ipython",
    "version": 3
   },
   "file_extension": ".py",
   "mimetype": "text/x-python",
   "name": "python",
   "nbconvert_exporter": "python",
   "pygments_lexer": "ipython3",
   "version": "3.6.4"
  }
 },
 "nbformat": 4,
 "nbformat_minor": 2
}
