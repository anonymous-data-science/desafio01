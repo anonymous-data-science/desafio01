{
 "cells": [
  {
   "cell_type": "code",
   "execution_count": null,
   "metadata": {},
   "outputs": [],
   "source": [
    "#Proceso04\n",
    "#limpieza especificas para departamentos\n",
    "#visualizar mapa palermo y departamentos\n",
    "#recupero de muestra para RL"
   ]
  },
  {
   "cell_type": "code",
   "execution_count": null,
   "metadata": {},
   "outputs": [],
   "source": [
    "import pandas as pd\n",
    "import numpy as np\n",
    "import geopandas as gpd\n",
    "import fiona\n",
    "import rtree\n",
    "import folium\n",
    "import joypy\n",
    "\n",
    "import matplotlib.pyplot as plt\n",
    "%matplotlib inline\n",
    "\n",
    "import seaborn as sns\n",
    "sns.set(style = \"whitegrid\")\n",
    "\n",
    "from geopandas.tools import sjoin\n",
    "from shapely.geometry import shape,mapping,Point,Polygon\n",
    "\n",
    "pd.options.display.max_rows = 10"
   ]
  },
  {
   "cell_type": "code",
   "execution_count": null,
   "metadata": {},
   "outputs": [],
   "source": [
    "#funciones graficas\n",
    "\n",
    "def plot_dist(lista):\n",
    "    '''\n",
    "    Input: serie\n",
    "    Return: subplots con la distribucion original boxplot e hist&kde\n",
    "    '''\n",
    "    plt.figure(figsize=(12,8))\n",
    "    \n",
    "    plt.subplot(211)\n",
    "    sns.boxplot(lista)\n",
    "    plt.title(f'{lista.name}\\n Max={np.max(lista):.0f} Median={np.median(lista):.0f} Min={np.min(lista):.0f}')\n",
    "\n",
    "    plt.subplot(212)\n",
    "    sns.distplot(lista)\n",
    "\n",
    "    plt.tight_layout()\n",
    "    plt.show()"
   ]
  },
  {
   "cell_type": "code",
   "execution_count": null,
   "metadata": {},
   "outputs": [],
   "source": [
    "#geopandas\n",
    "def from_wkt(df, wkt_column):\n",
    "    import shapely.wkt\n",
    "    df[\"coordinates\"]= df[wkt_column].apply(shapely.wkt.loads)\n",
    "    gdf = gpd.GeoDataFrame(barrios, geometry='coordinates')\n",
    "    return gdf\n",
    "\n",
    "def from_x_y(df, x, y):\n",
    "    gdf = gpd.GeoDataFrame(df.drop([x, y], axis=1),\n",
    "                                crs={'init': 'epsg:4326'},\n",
    "                                geometry=[Point(xy) for xy in zip(df[x], df[y])])\n",
    "    return gdf"
   ]
  },
  {
   "cell_type": "code",
   "execution_count": null,
   "metadata": {},
   "outputs": [],
   "source": [
    "#geopandas distancia entre polygono y puntos\n",
    "def distancia(poligono,punto):\n",
    "    dist = poligono.geometry.distance(punto)\n",
    "    dist_sort = dist.sort_values(ascending=True)\n",
    "    \n",
    "    return dist_sort[0]"
   ]
  },
  {
   "cell_type": "code",
   "execution_count": null,
   "metadata": {},
   "outputs": [],
   "source": [
    "#levatamos los barrios\n",
    "barrios = pd.read_csv(\"../data/barrios.csv\", encoding='latin1')\n",
    "barrios = from_wkt(barrios, \"WKT\")"
   ]
  },
  {
   "cell_type": "code",
   "execution_count": null,
   "metadata": {},
   "outputs": [],
   "source": [
    "barrios.head()"
   ]
  },
  {
   "cell_type": "code",
   "execution_count": null,
   "metadata": {},
   "outputs": [],
   "source": [
    "#recuperamos la salida del proceso03\n",
    "propiedades = pd.read_csv('../data/out_proceso03.csv', decimal=\".\")\n",
    "\n",
    "#se aplican nuevos filtros para seleccionar el barrio en que vamos a trabajar -> palermo\n",
    "analizar = propiedades[(propiedades['provincia'] == 'capital federal') & \n",
    "                       (propiedades['tipo_propiedad'] == 'departamento') &\n",
    "                       (propiedades['ciudad_barrio'] == 'palermo') &\n",
    "                       (propiedades['emprendimiento'] == False) &\n",
    "                       (propiedades['lat'].notnull()) &\n",
    "                       (propiedades['lon'].notnull()) &\n",
    "                       (propiedades['valor_m2'] > 1300) & \n",
    "                       (propiedades['valor_m2'] < 5300) & \n",
    "                       (propiedades['sup_m2'] > 10) &\n",
    "                       (propiedades['sup_m2'] < 600)\n",
    "                      ].copy()\n",
    "\n",
    "#se descartan posibles errores de carga sobre tipo de propiedad\n",
    "analizar.loc[analizar['titulo'].str.contains(\"chalet|duplex|ph\"), 'tipo_propiedad'] = \"error\"\n",
    "analizar.loc[analizar['descripcion'].str.contains(\"chalet|duplex|ph\"), 'tipo_propiedad'] = \"error\"\n",
    "\n",
    "#nos quedamos solo con los departamentos\n",
    "analizar = analizar[(analizar['tipo_propiedad'] == 'departamento')]\n",
    "\n",
    "dfTemp = pd.DataFrame(analizar['descripcion'].copy())\n",
    "\n",
    "#dfTemp['titulo'].replace('( )', '', regex=True, inplace=True)\n",
    "dfTemp['descripcion'].replace('( )', '', regex=True, inplace=True)\n",
    "dfTemp.columns=['descripciontrip']\n",
    "analizar = analizar.join(dfTemp)\n",
    "\n",
    "# Eliminar duplicados en descripcion y titulo\n",
    "analizar.drop_duplicates(['descripciontrip'], inplace=True)\n",
    "analizar.drop_duplicates(['titulo'], inplace=True)\n",
    "\n",
    "analizar = from_x_y(analizar, 'lon', 'lat')"
   ]
  },
  {
   "cell_type": "code",
   "execution_count": null,
   "metadata": {},
   "outputs": [],
   "source": [
    "analizar.head()"
   ]
  },
  {
   "cell_type": "code",
   "execution_count": null,
   "metadata": {},
   "outputs": [],
   "source": [
    "analizar.reset_index(drop=True, inplace=True)\n",
    "analizar.shape"
   ]
  },
  {
   "cell_type": "code",
   "execution_count": null,
   "metadata": {},
   "outputs": [],
   "source": [
    "#poligono del aeroparque\n",
    "libertador_alcorta = gpd.GeoDataFrame.from_file(\"../data/aeroparque/aeroparque_poly.shp\")\n",
    "\n",
    "#departamentos en aeroparque\n",
    "en_aeroparque = gpd.sjoin(analizar,libertador_alcorta,how=\"inner\")\n",
    "\n",
    "#eliminamos rows de deptos sobre el aeroparque\n",
    "analizar.drop(analizar.index[[en_aeroparque.index.values]],inplace=True)\n",
    "\n",
    "analizar.shape"
   ]
  },
  {
   "cell_type": "code",
   "execution_count": null,
   "metadata": {},
   "outputs": [],
   "source": [
    "#nos quedamos solo con los departamentos que se encuentran dentro de palermo\n",
    "palermo = barrios[barrios['BARRIO']=='PALERMO']\n",
    "\n",
    "analizar = analizar[analizar.intersects(palermo.unary_union)]\n",
    "\n",
    "analizar.shape"
   ]
  },
  {
   "cell_type": "code",
   "execution_count": null,
   "metadata": {},
   "outputs": [],
   "source": [
    "m = folium.Map([-34.606359, -58.443863], zoom_start=12, tiles=\"OpenStreetMap\")\n",
    "folium.GeoJson(palermo.to_json()).add_to(m)\n",
    "folium.GeoJson(analizar.to_json()).add_to(m)\n",
    "m"
   ]
  },
  {
   "cell_type": "code",
   "execution_count": null,
   "metadata": {},
   "outputs": [],
   "source": [
    "sns.heatmap(analizar[['precio','sup_m2','valor_m2','expensas','dormitorios','ambientes','seguridad','banos']].corr(), square=True, annot=True, cmap=\"YlGnBu\")"
   ]
  },
  {
   "cell_type": "code",
   "execution_count": null,
   "metadata": {},
   "outputs": [],
   "source": [
    "analizar.groupby(['ciudad_barrio']).agg({'valor_m2':['count','mean','max','min','std']})"
   ]
  },
  {
   "cell_type": "code",
   "execution_count": null,
   "metadata": {},
   "outputs": [],
   "source": [
    "plot_dist(analizar.valor_m2)"
   ]
  },
  {
   "cell_type": "code",
   "execution_count": null,
   "metadata": {},
   "outputs": [],
   "source": [
    "#sup_m2 vs precio\n",
    "muestra = analizar.sample(frac=0.50)\n",
    "\n",
    "# Gráfico con línea de regresión\n",
    "plt.figure(figsize = (20,10))\n",
    "sns.regplot(x=muestra[\"sup_m2\"], y=muestra[\"precio\"])"
   ]
  },
  {
   "cell_type": "code",
   "execution_count": null,
   "metadata": {},
   "outputs": [],
   "source": [
    "#sup_m2 vs valor_m2\n",
    "muestra = analizar.sample(frac=0.50)\n",
    "\n",
    "# Gráfico con línea de regresión\n",
    "plt.figure(figsize = (20,10))\n",
    "sns.regplot(x=muestra[\"sup_m2\"], y=muestra[\"valor_m2\"])"
   ]
  },
  {
   "cell_type": "code",
   "execution_count": null,
   "metadata": {},
   "outputs": [],
   "source": [
    "#valor_m2 -> palermo vs palermo sin barrios vs palermo con barrio\n",
    "\n",
    "#palermo\n",
    "p_psb_pcb = analizar[['ciudad_barrio','valor_m2','expensas']].copy()\n",
    "p_psb_pcb.columns=['barrio','valor_m2','expensas']\n",
    "\n",
    "#palermo sin barrio\n",
    "dfTemp = analizar[analizar['barrio'].isnull()][['barrio','valor_m2','expensas']].copy()\n",
    "dfTemp['barrio'] = 'sin barrio'\n",
    "\n",
    "p_psb_pcb = pd.concat([p_psb_pcb, dfTemp], sort=True, axis=0)\n",
    "\n",
    "#palermo con palermo chico\n",
    "dfTemp = analizar[analizar['barrio']==\"palermo chico\"][['barrio','valor_m2','expensas']].copy()\n",
    "\n",
    "p_psb_pcb = pd.concat([p_psb_pcb, dfTemp], sort=True, axis=0)\n",
    "\n",
    "#palermo con palermo chico\n",
    "dfTemp = analizar[analizar['barrio']==\"palermo soho\"][['barrio','valor_m2','expensas']].copy()\n",
    "\n",
    "p_psb_pcb = pd.concat([p_psb_pcb, dfTemp], sort=True, axis=0)\n",
    "\n",
    "#palermo con palermo hollywood\n",
    "dfTemp = analizar[analizar['barrio']==\"palermo hollywood\"][['barrio','valor_m2','expensas']].copy()\n",
    "\n",
    "p_psb_pcb = pd.concat([p_psb_pcb, dfTemp], sort=True, axis=0)\n",
    "\n",
    "fig, axes = joypy.joyplot(p_psb_pcb, by=\"barrio\", column=\"valor_m2\", x_range=[500,8000], figsize=(20,10))"
   ]
  },
  {
   "cell_type": "code",
   "execution_count": null,
   "metadata": {},
   "outputs": [],
   "source": [
    "#sumamos palermo viejo\n",
    "dfTemp = analizar[analizar['barrio']==\"palermo viejo\"][['barrio','valor_m2','expensas']].copy()\n",
    "\n",
    "p_psb_pcb = pd.concat([p_psb_pcb, dfTemp], sort=True, axis=0)\n",
    "\n",
    "\n",
    "fig, axes = joypy.joyplot(p_psb_pcb, by=\"barrio\", column=\"valor_m2\",\n",
    "                          hist=\"True\", bins=50, overlap=0,\n",
    "                          grid=True, legend=False, x_range=[600,6000], figsize=(20,10), ylabelsize=18, xlabelsize=18)"
   ]
  },
  {
   "cell_type": "code",
   "execution_count": null,
   "metadata": {},
   "outputs": [],
   "source": [
    "p_psb_pcb.groupby('barrio').count()"
   ]
  },
  {
   "cell_type": "code",
   "execution_count": null,
   "metadata": {},
   "outputs": [],
   "source": [
    "p_psb_pcb.groupby('barrio')['valor_m2'].agg(['mean','max','min']).plot.bar()"
   ]
  },
  {
   "cell_type": "code",
   "execution_count": null,
   "metadata": {},
   "outputs": [],
   "source": [
    "p_psb_pcb.groupby('barrio')['expensas'].agg(['mean','max','min']).plot.bar()"
   ]
  },
  {
   "cell_type": "code",
   "execution_count": null,
   "metadata": {},
   "outputs": [],
   "source": [
    "# Ploteamos el histograma de Precio\n",
    "plt.figure(figsize=(10,6))\n",
    "\n",
    "plt.hist(analizar['precio'], bins=35, color='lightblue')\n",
    "plt.xlabel('Precio aprox USD')\n",
    "plt.ylabel('Frecuencia')\n",
    "plt.title('Histograma - Precio Medio: u$d ' + str(\"{0:.2f}\".format(analizar['precio'].mean())))\n",
    "plt.grid(True)\n",
    "plt.show()"
   ]
  },
  {
   "cell_type": "code",
   "execution_count": null,
   "metadata": {},
   "outputs": [],
   "source": [
    "# Ploteamos el histograma de valor_m2\n",
    "plt.figure(figsize=(10,6))\n",
    "\n",
    "plt.hist(analizar['valor_m2'], bins=35, color='lightblue')\n",
    "plt.xlabel('Precio aprox USD')\n",
    "plt.ylabel('Frecuencia')\n",
    "plt.title('Histograma - Valor M2 Medio: u$d ' + str(\"{0:.2f}\".format(analizar['valor_m2'].mean())))\n",
    "plt.grid(True)\n",
    "plt.show()"
   ]
  },
  {
   "cell_type": "code",
   "execution_count": null,
   "metadata": {},
   "outputs": [],
   "source": [
    "# Ploteamos el histograma de expensas\n",
    "plt.figure(figsize=(10,6))\n",
    "\n",
    "#se reemplaza string np.nan por 0\n",
    "analizar['expensas'].replace(to_replace=np.nan, value=0, inplace=True)\n",
    "\n",
    "plt.hist(analizar['expensas'], bins=10, color='lightblue')\n",
    "plt.xlabel('Expensas')\n",
    "plt.ylabel('Frecuencia')\n",
    "plt.title('Histograma - Media Expensas: $' + str(\"{0:.2f}\".format(analizar['expensas'].mean())))\n",
    "plt.grid(True)\n",
    "plt.show()"
   ]
  },
  {
   "cell_type": "code",
   "execution_count": null,
   "metadata": {},
   "outputs": [],
   "source": [
    "# Ploteamos el histograma con Sup Cubierta\n",
    "\n",
    "plt.figure(figsize=(10,6))\n",
    "\n",
    "#se reemplaza string np.nan por 0\n",
    "analizar['sup_m2_cubiertos'].replace(to_replace=np.nan, value=0, inplace=True)\n",
    "\n",
    "plt.hist(analizar['sup_m2_cubiertos'], bins=35, color='lightblue')\n",
    "plt.xlabel('Sup cubierta')\n",
    "plt.ylabel('Frecuencia')\n",
    "plt.title('Histograma - Sup Media: ' + str(\"{0:.2f}\".format(analizar['sup_m2_cubiertos'].mean())) + 'm2')\n",
    "plt.grid(True)\n",
    "plt.show()"
   ]
  },
  {
   "cell_type": "markdown",
   "metadata": {},
   "source": [
    "# click2shp - poligonos generados"
   ]
  },
  {
   "cell_type": "code",
   "execution_count": null,
   "metadata": {},
   "outputs": [],
   "source": [
    "#levantamos los poligonos generados para generar nuevas columnas\n",
    "alcorta = gpd.GeoDataFrame.from_file(\"../data/alcorta/alcorta_poly.shp\")\n",
    "\n",
    "libertador = gpd.GeoDataFrame.from_file(\"../data/libertador/libertador_poly.shp\")\n",
    "\n",
    "las_heras_centro = gpd.GeoDataFrame.from_file(\"../data/las_heras_centro/las_heras_centro_poly.shp\")\n",
    "\n",
    "santa_fe_centro = gpd.GeoDataFrame.from_file(\"../data/santa_fe_centro/santa_fe_centro_poly.shp\")\n",
    "\n",
    "coronel_diaz = gpd.GeoDataFrame.from_file(\"../data/coronel_diaz/coronel_diaz_poly.shp\")\n",
    "\n",
    "plaza_parque = gpd.GeoDataFrame.from_file(\"../data/plaza/plazayparques_poly.shp\")\n",
    "\n",
    "subte = gpd.GeoDataFrame.from_file(\"../data/subte/subte_poly.shp\")\n",
    "\n",
    "metrobus = gpd.GeoDataFrame.from_file(\"../data/metrobus/metrobus_poly.shp\")"
   ]
  },
  {
   "cell_type": "code",
   "execution_count": null,
   "metadata": {},
   "outputs": [],
   "source": [
    "# segun distancia a alcorta\n",
    "dfTemp = pd.DataFrame(analizar.apply(lambda x: distancia(alcorta, x['geometry']), axis=1))\n",
    "\n",
    "#se renombran la columna nueva\n",
    "dfTemp.columns=['dist_alcorta']\n",
    "\n",
    "#se suma al df la nueva columna dist_alcorta\n",
    "analizar = analizar.join(dfTemp)\n",
    "\n",
    "\n",
    "m = folium.Map([-34.606359, -58.443863], zoom_start=12, tiles=\"OpenStreetMap\")\n",
    "folium.GeoJson(alcorta.to_json()).add_to(m)\n",
    "m\n"
   ]
  },
  {
   "cell_type": "code",
   "execution_count": null,
   "metadata": {},
   "outputs": [],
   "source": [
    "# segun distancia a libertador\n",
    "dfTemp = pd.DataFrame(analizar.apply(lambda x: distancia(libertador, x['geometry']), axis=1))\n",
    "\n",
    "#se renombran la columna nueva\n",
    "dfTemp.columns=['dist_libertador']\n",
    "\n",
    "#se suma al df la nueva columna dist_libertador\n",
    "analizar = analizar.join(dfTemp)\n",
    "\n",
    "m = folium.Map([-34.606359, -58.443863], zoom_start=12, tiles=\"OpenStreetMap\")\n",
    "folium.GeoJson(libertador.to_json()).add_to(m)\n",
    "m"
   ]
  },
  {
   "cell_type": "code",
   "execution_count": null,
   "metadata": {},
   "outputs": [],
   "source": [
    "# segun distancia a las_heras_centro\n",
    "dfTemp = pd.DataFrame(analizar.apply(lambda x: distancia(las_heras_centro, x['geometry']), axis=1))\n",
    "\n",
    "#se renombran la columna nueva\n",
    "dfTemp.columns=['dist_las_heras_centro']\n",
    "\n",
    "#se suma al df la nueva columna dist_las_heras_centro\n",
    "analizar = analizar.join(dfTemp)\n",
    "\n",
    "m = folium.Map([-34.606359, -58.443863], zoom_start=12, tiles=\"OpenStreetMap\")\n",
    "folium.GeoJson(las_heras_centro.to_json()).add_to(m)\n",
    "m"
   ]
  },
  {
   "cell_type": "code",
   "execution_count": null,
   "metadata": {},
   "outputs": [],
   "source": [
    "# segun distancia a santa_fe_centro\n",
    "dfTemp = pd.DataFrame(analizar.apply(lambda x: distancia(santa_fe_centro, x['geometry']), axis=1))\n",
    "\n",
    "#se renombran la columna nueva\n",
    "dfTemp.columns=['dist_santa_fe_centro']\n",
    "\n",
    "#se suma al df la nueva columna dist_santa_fe_centro\n",
    "analizar = analizar.join(dfTemp)\n",
    "\n",
    "m = folium.Map([-34.606359, -58.443863], zoom_start=12, tiles=\"OpenStreetMap\")\n",
    "folium.GeoJson(santa_fe_centro.to_json()).add_to(m)\n",
    "m"
   ]
  },
  {
   "cell_type": "code",
   "execution_count": null,
   "metadata": {},
   "outputs": [],
   "source": [
    "# segun distancia a coronel_diaz\n",
    "dfTemp = pd.DataFrame(analizar.apply(lambda x: distancia(coronel_diaz, x['geometry']), axis=1))\n",
    "\n",
    "#se renombran la columna nueva\n",
    "dfTemp.columns=['dist_coronel_diaz']\n",
    "\n",
    "#se suma al df la nueva columna dist_coronel_diaz\n",
    "analizar = analizar.join(dfTemp)\n",
    "\n",
    "m = folium.Map([-34.606359, -58.443863], zoom_start=12, tiles=\"OpenStreetMap\")\n",
    "folium.GeoJson(coronel_diaz.to_json()).add_to(m)\n",
    "m"
   ]
  },
  {
   "cell_type": "code",
   "execution_count": null,
   "metadata": {},
   "outputs": [],
   "source": [
    "#segun distancia al plazas y espacios verdes\n",
    "\n",
    "dfTemp = pd.DataFrame(analizar.apply(lambda x: distancia(plaza_parque, x['geometry']), axis=1))\n",
    "\n",
    "#se renombran la columna nueva\n",
    "dfTemp.columns=['dist_plazas']\n",
    "\n",
    "#se suma al df la nueva columna dist_plazas\n",
    "analizar = analizar.join(dfTemp)\n",
    "\n",
    "m = folium.Map([-34.606359, -58.443863], zoom_start=12, tiles=\"OpenStreetMap\")\n",
    "folium.GeoJson(plaza_parque.to_json()).add_to(m)\n",
    "m\n"
   ]
  },
  {
   "cell_type": "code",
   "execution_count": null,
   "metadata": {},
   "outputs": [],
   "source": [
    "#segun distancia al subte\n",
    "\n",
    "dfTemp = pd.DataFrame(analizar.apply(lambda x: distancia(subte, x['geometry']), axis=1))\n",
    "\n",
    "#se renombran la columna nueva\n",
    "dfTemp.columns=['dist_subte']\n",
    "\n",
    "#se suma al df la nueva columna dist_subte\n",
    "analizar = analizar.join(dfTemp)\n",
    "\n",
    "m = folium.Map([-34.606359, -58.443863], zoom_start=12, tiles=\"OpenStreetMap\")\n",
    "folium.GeoJson(subte.to_json()).add_to(m)\n",
    "m\n"
   ]
  },
  {
   "cell_type": "code",
   "execution_count": null,
   "metadata": {},
   "outputs": [],
   "source": [
    "#segun distancia al metrobus\n",
    "\n",
    "dfTemp = pd.DataFrame(analizar.apply(lambda x: distancia(metrobus, x['geometry']), axis=1))\n",
    "\n",
    "#se renombran la columna nueva\n",
    "dfTemp.columns=['dist_metrobus']\n",
    "\n",
    "#se suma al df la nueva columna dist_metrobus\n",
    "analizar = analizar.join(dfTemp)\n",
    "\n",
    "m = folium.Map([-34.606359, -58.443863], zoom_start=12, tiles=\"OpenStreetMap\")\n",
    "folium.GeoJson(metrobus.to_json()).add_to(m)\n",
    "m\n",
    "\n"
   ]
  },
  {
   "cell_type": "markdown",
   "metadata": {},
   "source": [
    "# Sub-Barrios Generados"
   ]
  },
  {
   "cell_type": "code",
   "execution_count": null,
   "metadata": {},
   "outputs": [],
   "source": [
    "#si esta en p_canitas\n",
    "p_canitas = gpd.GeoDataFrame.from_file(\"../data/p_canitas/p_canitas_poly.shp\")\n",
    "\n",
    "dfTemp = pd.DataFrame(analizar.apply(lambda x: 1 \n",
    "                                     if(x['geometry'].intersects(p_canitas.unary_union)) \n",
    "                                     else 0, axis=1))\n",
    "\n",
    "dfTemp.rename(columns={0: 'p_canitas'}, inplace=True)\n",
    "\n",
    "analizar = analizar.join(dfTemp)\n",
    "\n",
    "#si esta en p_hollywood\n",
    "p_hollywood = gpd.GeoDataFrame.from_file(\"../data/p_hollywood/p_hollywood_poly.shp\")\n",
    "\n",
    "dfTemp = pd.DataFrame(analizar.apply(lambda x: 1 \n",
    "                                     if(x['geometry'].intersects(p_hollywood.unary_union)) \n",
    "                                     else 0, axis=1))\n",
    "\n",
    "dfTemp.rename(columns={0: 'p_hollywood'}, inplace=True)\n",
    "\n",
    "analizar = analizar.join(dfTemp)\n",
    "\n",
    "#si esta en p_soho\n",
    "p_soho = gpd.GeoDataFrame.from_file(\"../data/p_soho/palermo_soho_poly.shp\")\n",
    "\n",
    "dfTemp = pd.DataFrame(analizar.apply(lambda x: 1 \n",
    "                                     if(x['geometry'].intersects(p_soho.unary_union)) \n",
    "                                     else 0, axis=1))\n",
    "\n",
    "dfTemp.rename(columns={0: 'p_soho'}, inplace=True)\n",
    "\n",
    "analizar = analizar.join(dfTemp)\n",
    "\n",
    "#si esta en p_amarillo\n",
    "p_amarillo = gpd.GeoDataFrame.from_file(\"../data/p_amarillo/palermo_amarillo_poly.shp\")\n",
    "\n",
    "dfTemp = pd.DataFrame(analizar.apply(lambda x: 1 \n",
    "                                     if(x['geometry'].intersects(p_amarillo.unary_union)) \n",
    "                                     else 0, axis=1))\n",
    "\n",
    "dfTemp.rename(columns={0: 'p_amarillo'}, inplace=True)\n",
    "\n",
    "analizar = analizar.join(dfTemp)\n",
    "\n",
    "#si esta en p_centro\n",
    "p_centro = gpd.GeoDataFrame.from_file(\"../data/p_centro/p_centro_poly.shp\")\n",
    "\n",
    "dfTemp = pd.DataFrame(analizar.apply(lambda x: 1 \n",
    "                                     if(x['geometry'].intersects(p_centro.unary_union)) \n",
    "                                     else 0, axis=1))\n",
    "\n",
    "dfTemp.rename(columns={0: 'p_centro'}, inplace=True)\n",
    "\n",
    "analizar = analizar.join(dfTemp)\n",
    "\n",
    "#si esta en p_alcorta\n",
    "p_alcorta = gpd.GeoDataFrame.from_file(\"../data/p_alcorta/p_alcorta_poly.shp\")\n",
    "\n",
    "dfTemp = pd.DataFrame(analizar.apply(lambda x: 1 \n",
    "                                     if(x['geometry'].intersects(p_alcorta.unary_union)) \n",
    "                                     else 0, axis=1))\n",
    "\n",
    "dfTemp.rename(columns={0: 'p_alcorta'}, inplace=True)\n",
    "\n",
    "analizar = analizar.join(dfTemp)\n",
    "\n",
    "#si esta en p_libertador\n",
    "p_libertador = gpd.GeoDataFrame.from_file(\"../data/p_libertador/p_libertador_poly.shp\")\n",
    "\n",
    "dfTemp = pd.DataFrame(analizar.apply(lambda x: 1 \n",
    "                                     if(x['geometry'].intersects(p_libertador.unary_union)) \n",
    "                                     else 0, axis=1))\n",
    "\n",
    "dfTemp.rename(columns={0: 'p_libertador'}, inplace=True)\n",
    "\n",
    "analizar = analizar.join(dfTemp)\n",
    "\n",
    "#m = folium.Map([-34.606359, -58.443863], zoom_start=12, tiles=\"OpenStreetMap\")\n",
    "#folium.GeoJson(p_canitas.to_json()).add_to(m)\n",
    "#folium.GeoJson(p_hollywood.to_json()).add_to(m)\n",
    "#folium.GeoJson(p_soho.to_json()).add_to(m)\n",
    "#folium.GeoJson(p_amarillo.to_json()).add_to(m)\n",
    "#folium.GeoJson(p_centro.to_json()).add_to(m)\n",
    "#folium.GeoJson(p_alcorta.to_json()).add_to(m)\n",
    "#folium.GeoJson(p_libertador.to_json()).add_to(m)\n",
    "#folium.GeoJson(palermo.to_json()).add_to(m)\n",
    "#folium.GeoJson(analizar.to_json()).add_to(m)\n",
    "#m\n",
    "\n",
    "analizar.columns"
   ]
  },
  {
   "cell_type": "code",
   "execution_count": null,
   "metadata": {},
   "outputs": [],
   "source": [
    "analizar[['p_canitas', 'p_hollywood','p_soho', 'p_amarillo', 'p_centro', 'p_alcorta', 'p_libertador']].sum()"
   ]
  },
  {
   "cell_type": "code",
   "execution_count": null,
   "metadata": {},
   "outputs": [],
   "source": [
    "analizar.columns"
   ]
  },
  {
   "cell_type": "code",
   "execution_count": null,
   "metadata": {},
   "outputs": [],
   "source": [
    "#se guarda csv completo\n",
    "analizar.to_dense().to_csv(\"../data/out_proceso04.csv\", index = False, sep=',', encoding='utf-8')"
   ]
  },
  {
   "cell_type": "code",
   "execution_count": null,
   "metadata": {},
   "outputs": [],
   "source": [
    "analizar"
   ]
  }
 ],
 "metadata": {
  "kernelspec": {
   "display_name": "Python 3",
   "language": "python",
   "name": "python3"
  },
  "language_info": {
   "codemirror_mode": {
    "name": "ipython",
    "version": 3
   },
   "file_extension": ".py",
   "mimetype": "text/x-python",
   "name": "python",
   "nbconvert_exporter": "python",
   "pygments_lexer": "ipython3",
   "version": "3.6.5"
  }
 },
 "nbformat": 4,
 "nbformat_minor": 2
}
