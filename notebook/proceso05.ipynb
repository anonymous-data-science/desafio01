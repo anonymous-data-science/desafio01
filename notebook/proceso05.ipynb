{
 "cells": [
  {
   "cell_type": "code",
   "execution_count": null,
   "metadata": {},
   "outputs": [],
   "source": [
    "#Proceso05\n",
    "#visualizar mapa palermo, deptos"
   ]
  },
  {
   "cell_type": "code",
   "execution_count": null,
   "metadata": {},
   "outputs": [],
   "source": [
    "%matplotlib inline\n",
    "\n",
    "import pandas as pd\n",
    "import numpy as np\n",
    "import geopandas\n",
    "import fiona\n",
    "import rtree\n",
    "import folium\n",
    "\n",
    "from shapely.geometry import Point\n",
    "\n",
    "pd.options.display.max_rows = 10"
   ]
  },
  {
   "cell_type": "code",
   "execution_count": null,
   "metadata": {},
   "outputs": [],
   "source": [
    "def from_wkt(df, wkt_column):\n",
    "    import shapely.wkt\n",
    "    df[\"coordinates\"]= df[wkt_column].apply(shapely.wkt.loads)\n",
    "    gdf = geopandas.GeoDataFrame(barrios, geometry='coordinates')\n",
    "    return gdf\n",
    "\n",
    "def from_x_y(df, x, y):\n",
    "    gdf = geopandas.GeoDataFrame(df.drop([x, y], axis=1),\n",
    "                                crs={'init': 'epsg:4326'},\n",
    "                                geometry=[Point(xy) for xy in zip(df[x], df[y])])\n",
    "    return gdf"
   ]
  },
  {
   "cell_type": "code",
   "execution_count": null,
   "metadata": {},
   "outputs": [],
   "source": [
    "barrios = pd.read_csv(\"../data/barrios.csv\", encoding='latin1')\n",
    "\n",
    "barrios = from_wkt(barrios, \"WKT\")"
   ]
  },
  {
   "cell_type": "code",
   "execution_count": null,
   "metadata": {},
   "outputs": [],
   "source": [
    "barrios.head()"
   ]
  },
  {
   "cell_type": "code",
   "execution_count": null,
   "metadata": {},
   "outputs": [],
   "source": [
    "propiedades = pd.read_csv('../data/out_proceso02.csv', decimal=\".\")\n",
    "\n",
    "propiedades = propiedades[(propiedades['provincia'] == 'capital federal') & \n",
    "                          (propiedades['tipo_propiedad'] == 'departamento') & \n",
    "                          (propiedades['emprendimiento'] == False) & \n",
    "                          (propiedades['en_pozo'] == False) &\n",
    "                          (propiedades['ciudad_barrio'] == 'palermo') &\n",
    "                          (propiedades['lat'].notnull()) &\n",
    "                          (propiedades['lon'].notnull()) &\n",
    "                          (propiedades['sup_m2'] >= 50) &\n",
    "                          (propiedades['sup_m2'] <= 80)                          \n",
    "                         ]\n",
    "\n",
    "propiedades = from_x_y(propiedades, 'lon', 'lat')"
   ]
  },
  {
   "cell_type": "code",
   "execution_count": null,
   "metadata": {},
   "outputs": [],
   "source": [
    "propiedades.groupby('tipo_propiedad').count()"
   ]
  },
  {
   "cell_type": "code",
   "execution_count": null,
   "metadata": {},
   "outputs": [],
   "source": [
    "m = folium.Map([-34.606359, -58.443863], zoom_start=12, tiles=\"OpenStreetMap\")\n",
    "folium.GeoJson(barrios.to_json()).add_to(m)\n",
    "folium.GeoJson(propiedades.to_json()).add_to(m)\n",
    "m"
   ]
  },
  {
   "cell_type": "code",
   "execution_count": null,
   "metadata": {},
   "outputs": [],
   "source": []
  }
 ],
 "metadata": {
  "kernelspec": {
   "display_name": "Python 3",
   "language": "python",
   "name": "python3"
  },
  "language_info": {
   "codemirror_mode": {
    "name": "ipython",
    "version": 3
   },
   "file_extension": ".py",
   "mimetype": "text/x-python",
   "name": "python",
   "nbconvert_exporter": "python",
   "pygments_lexer": "ipython3",
   "version": "3.6.5"
  }
 },
 "nbformat": 4,
 "nbformat_minor": 2
}
