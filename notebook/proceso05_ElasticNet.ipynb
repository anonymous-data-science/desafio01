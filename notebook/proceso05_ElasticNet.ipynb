{
 "cells": [
  {
   "cell_type": "code",
   "execution_count": null,
   "metadata": {},
   "outputs": [],
   "source": [
    "import pandas as pd\n",
    "import matplotlib.pyplot as plt\n",
    "import seaborn as sns\n",
    "import numpy as np\n",
    "\n",
    "from sklearn import datasets, linear_model\n",
    "from sklearn.metrics import mean_squared_error, r2_score\n",
    "from sklearn.model_selection import train_test_split, KFold, cross_val_score\n",
    "from sklearn.model_selection import cross_val_predict\n",
    "from sklearn.model_selection import cross_val_score\n",
    "from sklearn.linear_model import Lasso,Ridge, ElasticNet, LinearRegression, Lasso, LassoCV, Ridge, RidgeCV\n",
    "from sklearn.preprocessing import StandardScaler\n",
    "from sklearn import preprocessing\n",
    "from sklearn.svm import SVR\n",
    "from sklearn.preprocessing import PolynomialFeatures, StandardScaler\n",
    "from sklearn.metrics import mean_squared_error, r2_score\n",
    "\n",
    "from sklearn.preprocessing import PolynomialFeatures\n",
    "from sklearn.pipeline import make_pipeline"
   ]
  },
  {
   "cell_type": "code",
   "execution_count": null,
   "metadata": {},
   "outputs": [],
   "source": [
    "#recuperamos la salida del proceso04\n",
    "departamentos = pd.read_csv('../data/out_proceso04.csv', decimal=\".\")\n",
    "\n",
    "departamentos.fillna(0, inplace=True)\n",
    "\n",
    "departamentos.columns"
   ]
  },
  {
   "cell_type": "code",
   "execution_count": null,
   "metadata": {},
   "outputs": [],
   "source": [
    "#eliminamos variables que no vamos a usar en el modelo\n",
    "departamentos.drop(['operacion', 'tipo_propiedad', 'pais', 'provincia', 'ciudad_barrio','emprendimiento',\n",
    "                    'barrio', 'barrio_cerrado', 'geonames_url', 'precio', 'moneda', 'titulo', 'descripcion',\n",
    "                    'descripciontrip','geometry'], axis=1, inplace=True)"
   ]
  },
  {
   "cell_type": "code",
   "execution_count": null,
   "metadata": {},
   "outputs": [],
   "source": [
    "departamentos.columns"
   ]
  },
  {
   "cell_type": "code",
   "execution_count": null,
   "metadata": {},
   "outputs": [],
   "source": [
    "departamentos_sample = departamentos.sample(frac=1.0, random_state = 42)\n",
    "\n",
    "X = departamentos_sample.drop('valor_m2', axis=1)\n",
    "\n",
    "y = departamentos_sample[['valor_m2']]"
   ]
  },
  {
   "cell_type": "markdown",
   "metadata": {},
   "source": [
    "## Sin PolynomialFeatures"
   ]
  },
  {
   "cell_type": "code",
   "execution_count": null,
   "metadata": {},
   "outputs": [],
   "source": [
    "X_train, X_test, y_train, y_test = train_test_split(X, y, test_size=0.2, random_state=53)\n",
    "\n",
    "print(X_train.shape, y_train.shape)\n",
    "print(X_test.shape, y_test.shape)"
   ]
  },
  {
   "cell_type": "code",
   "execution_count": null,
   "metadata": {},
   "outputs": [],
   "source": [
    "se = StandardScaler()\n",
    "X_train = se.fit_transform(X_train)\n",
    "X_test = se.fit_transform(X_test)"
   ]
  },
  {
   "cell_type": "code",
   "execution_count": null,
   "metadata": {},
   "outputs": [],
   "source": [
    "alphas = [0.1, 0.125, 0.15, 0.2, 0.25, 0.3, 0.4]\n",
    "\n",
    "alpha_elasticnet =[]\n",
    "mean_elasticnet = []\n",
    "std_elasticnet =[]\n",
    "predict_elasticnet = []\n",
    "\n",
    "def f_elasticnet(alpha, X_train, X_test, y_train, y_test):\n",
    "    model_elasticnet = ElasticNet(alpha=alpha, normalize=False)\n",
    "    results_elasticnet = cross_val_score(model_elasticnet, X_train, y_train, cv=5, scoring='r2')\n",
    "    alpha_elasticnet.append(alpha)\n",
    "    mean_elasticnet.append(np.mean(results_elasticnet))\n",
    "    std_elasticnet.append(np.std(results_elasticnet))\n",
    "    model_elasticnet.fit(X_train,y_train)\n",
    "    predict_elasticnet.append(model_elasticnet.predict(X_test))\n",
    "\n",
    "for alpha in alphas:\n",
    "    f_elasticnet(alpha, X_train, X_test, y_train, y_test)\n",
    "\n",
    "plt.plot(alpha_elasticnet, mean_elasticnet, label='ElasticNet')\n",
    "plt.legend(loc='lower left')\n",
    "plt.xlabel('alpha')\n",
    "plt.ylabel('cross validation score')\n",
    "plt.tight_layout()\n",
    "plt.show()"
   ]
  },
  {
   "cell_type": "code",
   "execution_count": null,
   "metadata": {},
   "outputs": [],
   "source": [
    "# Plot the model - predict_ridge - alpha 0.15\n",
    "\n",
    "dfPredict_elasticnet = pd.DataFrame({'predict_ridge':predict_elasticnet[2]})\n",
    "\n",
    "plt.plot(y,y, '-.',c='grey')\n",
    "plt.scatter(dfPredict_elasticnet, y_test, s=30, c='r', marker='+', zorder=10)\n",
    "plt.xlabel(\"Predicted Values from all values\")\n",
    "plt.ylabel(\"Actual Values y_test\")\n",
    "plt.show()\n",
    "print(r2_score(y_test, dfPredict_elasticnet))\n",
    "print (\"MSE:\", mean_squared_error(y_test, dfPredict_elasticnet))"
   ]
  },
  {
   "cell_type": "markdown",
   "metadata": {},
   "source": [
    "## Con PolynomialFeatures"
   ]
  },
  {
   "cell_type": "code",
   "execution_count": null,
   "metadata": {},
   "outputs": [],
   "source": [
    "p = PolynomialFeatures(degree=2).fit(X)\n",
    "X_features = pd.DataFrame(p.transform(X), columns=p.get_feature_names(X.columns))"
   ]
  },
  {
   "cell_type": "code",
   "execution_count": null,
   "metadata": {},
   "outputs": [],
   "source": [
    "X_train, X_test, y_train, y_test = train_test_split(X_features, y, test_size=0.2, random_state=53)\n",
    "\n",
    "print(X_train.shape, y_train.shape)\n",
    "print(X_test.shape, y_test.shape)\n",
    "\n",
    "se = StandardScaler()\n",
    "X_train = se.fit_transform(X_train)\n",
    "X_test = se.fit_transform(X_test)"
   ]
  },
  {
   "cell_type": "code",
   "execution_count": null,
   "metadata": {},
   "outputs": [],
   "source": [
    "alphas = [1.5, 2, 2.5, 3, 3.5]\n",
    "\n",
    "alpha_elasticnet =[]\n",
    "mean_elasticnet = []\n",
    "std_elasticnet =[]\n",
    "predict_elasticnet = []\n",
    "\n",
    "def f_elasticnet(alpha, X_train, X_test, y_train, y_test):\n",
    "    model_elasticnet = ElasticNet(alpha=alpha, max_iter=10000, normalize=False)\n",
    "    results_elasticnet = cross_val_score(model_elasticnet, X_train, y_train, cv=5, scoring='r2')\n",
    "    alpha_elasticnet.append(alpha)\n",
    "    mean_elasticnet.append(np.mean(results_elasticnet))\n",
    "    std_elasticnet.append(np.std(results_elasticnet))\n",
    "    model_elasticnet.fit(X_train,y_train)\n",
    "    predict_elasticnet.append(model_elasticnet.predict(X_test))\n",
    "\n",
    "for alpha in alphas:\n",
    "    f_elasticnet(alpha, X_train, X_test, y_train, y_test)\n",
    "\n",
    "plt.plot(alpha_elasticnet, mean_elasticnet, label='ElasticNet')\n",
    "plt.legend(loc='lower left')\n",
    "plt.xlabel('alpha')\n",
    "plt.ylabel('cross validation score')\n",
    "plt.tight_layout()\n",
    "plt.show()"
   ]
  },
  {
   "cell_type": "code",
   "execution_count": null,
   "metadata": {},
   "outputs": [],
   "source": [
    "# Plot the model - predict_ridge - alpha 3\n",
    "\n",
    "dfPredict_elasticnet = pd.DataFrame({'predict_ridge':predict_elasticnet[3]})\n",
    "\n",
    "plt.plot(y,y, '-.',c='grey')\n",
    "plt.scatter(dfPredict_elasticnet, y_test, s=30, c='r', marker='+', zorder=10)\n",
    "plt.xlabel(\"Predicted Values from all values\")\n",
    "plt.ylabel(\"Actual Values y_test\")\n",
    "plt.show()\n",
    "print(r2_score(y_test, dfPredict_elasticnet))\n",
    "print (\"MSE:\", mean_squared_error(y_test, dfPredict_elasticnet))"
   ]
  }
 ],
 "metadata": {
  "kernelspec": {
   "display_name": "Python 3",
   "language": "python",
   "name": "python3"
  },
  "language_info": {
   "codemirror_mode": {
    "name": "ipython",
    "version": 3
   },
   "file_extension": ".py",
   "mimetype": "text/x-python",
   "name": "python",
   "nbconvert_exporter": "python",
   "pygments_lexer": "ipython3",
   "version": "3.6.5"
  }
 },
 "nbformat": 4,
 "nbformat_minor": 2
}
