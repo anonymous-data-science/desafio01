{
 "cells": [
  {
   "cell_type": "code",
   "execution_count": 1,
   "metadata": {},
   "outputs": [],
   "source": [
    "#Proceso_Contar Palabras\n",
    "#trabajamos sobre out_proceso01.csv\n",
    "#buscar palabras mas comunes en el tituto y la descripcion\n",
    "#estandarizar palabras"
   ]
  },
  {
   "cell_type": "code",
   "execution_count": 2,
   "metadata": {},
   "outputs": [],
   "source": [
    "#importando librerias que se van a utilizar\n",
    "import collections\n",
    "import pandas as pd\n",
    "import matplotlib.pyplot as plt\n",
    "%matplotlib inline"
   ]
  },
  {
   "cell_type": "code",
   "execution_count": 5,
   "metadata": {},
   "outputs": [
    {
     "name": "stdout",
     "output_type": "stream",
     "text": [
      "<class 'pandas.core.frame.DataFrame'>\n"
     ]
    }
   ],
   "source": [
    "#leyedo datos de properatti.csv\n",
    "propiedades = pd.read_csv('/home/martin/Workspace/datascience-desafios/desafio1/data/out_proceso01.csv', decimal=\".\")\n",
    "print(type(propiedades))\n",
    "dfTemp = pd.DataFrame(propiedades[['titulo','descripcion']])\n",
    "\n",
    "#dfTemp.to_dense().to_csv(\"/tmp/tmpTexto.txt\", index = False, sep=',', encoding='utf-8')\n",
    "    \n",
    "#sin expensas\n",
    "#con expensas\n",
    "#apto credito\n",
    "#pisos de ....\n",
    "#no apta credito\n",
    "#gas natural\n",
    "#luz\n",
    "#agua\n",
    "#living comedor\n",
    "#habitacion suite\n",
    "#habitacion de servicio\n",
    "\n",
    "#en pozo\n",
    "#emprendimiento\n",
    "\n",
    "#apto profesional\n",
    "#apto credito\n",
    "\n",
    "#buscar duplicados\n",
    "#propiedades_analizar.duplicated('descripcion')"
   ]
  },
  {
   "cell_type": "code",
   "execution_count": 8,
   "metadata": {
    "scrolled": false
   },
   "outputs": [
    {
     "name": "stdout",
     "output_type": "stream",
     "text": [
      "Estas son las 10 palabras mas comunes\n",
      "\n",
      "habitaciones :  129552\n",
      "cocina :  99244\n",
      "baño :  91974\n",
      "ambientes :  90675\n",
      "comedor :  80391\n",
      "living :  57268\n",
      "g b a :  50165\n",
      "piso :  48641\n",
      "departamento :  47344\n",
      "balcon :  45090\n"
     ]
    },
    {
     "data": {
      "text/plain": [
       "<matplotlib.axes._subplots.AxesSubplot at 0x7f29b82ebe80>"
      ]
     },
     "execution_count": 8,
     "metadata": {},
     "output_type": "execute_result"
    },
    {
     "data": {
      "image/png": "[encoded data removed]",
      "text/plain": [
       "<Figure size 432x288 with 1 Axes>"
      ]
     },
     "metadata": {},
     "output_type": "display_data"
    }
   ],
   "source": [
    "archivo = open('/home/martin/Workspace/datascience-desafios/desafio1/data/out_proceso01.csv', encoding=\"utf8\")\n",
    "texto = archivo.read()\n",
    "\n",
    "#no contar estas palabras\n",
    "nocontar = set(line.strip() for line in open('/home/martin/Workspace/datascience-desafios/desafio1/data/palabras_no_contar.txt'))\n",
    "\n",
    "contarpalabras = {}\n",
    "\n",
    "for palabra in texto.lower().split():\n",
    "    palabra = palabra.replace(\".\",\" \")\n",
    "    palabra = palabra.replace(\",\",\" \")\n",
    "    palabra = palabra.replace(\":\",\" \")\n",
    "    palabra = palabra.replace(\"\\\"\",\" \")\n",
    "    palabra = palabra.replace(\"/\",\" \")\n",
    "    palabra = palabra.replace(\"!\",\" \")\n",
    "    palabra = palabra.replace(\"*\",\" \")\n",
    "    palabra = palabra.replace(\"(\",\" \")\n",
    "    palabra = palabra.replace(\")\",\" \")\n",
    "    palabra = palabra.replace(\"[\",\" \")\n",
    "    palabra = palabra.replace(\"]\",\" \")\n",
    "    palabra = palabra.replace(\"-\",\" \")\n",
    "    palabra = palabra.replace(\"#\",\" \")\n",
    "    palabra = palabra.replace(\"+\",\" \")\n",
    "    palabra = palabra.replace(\"%\",\" \")\n",
    "    palabra = palabra.replace(\"&\",\" \")\n",
    "    palabra = palabra.replace(\"|\",\" \")\n",
    "    palabra = palabra.replace(\"depto\",\"departamento\")\n",
    "    palabra = palabra.replace(\"dorm\",\"dormitorios\")\n",
    "    palabra = palabra.replace(\"amb\",\"ambientes\")\n",
    "    palabra = palabra.replace(\"ambiente\",\"ambientes\")\n",
    "    palabra = palabra.replace(\"ambientessientes\",\"ambientes\")\n",
    "    palabra = palabra.replace(\"ambientess\",\"ambientes\")\n",
    "    palabra = palabra.replace(\"ambientessiente\",\"ambientes\")\n",
    "    palabra = palabra.replace(\"ambientesiente\",\"ambientes\")\n",
    "    palabra = palabra.replace(\"monoambientessiente\",\"monoambiente\")\n",
    "    palabra = palabra.replace(\"dormitorioss\",\"habitaciones\")\n",
    "    palabra = palabra.replace(\"dormitorios \",\"habitaciones\")\n",
    "    palabra = palabra.replace(\"dormitoriositorios\",\"habitaciones\")\n",
    "    palabra = palabra.replace(\"dormitoriositorio\",\"habitaciones\")\n",
    "    palabra = palabra.replace(\"dormitorio\",\"habitacion\")\n",
    "    palabra = palabra.replace(\"bano\",\"baño\")\n",
    "    palabra = palabra.replace(\"banos\",\"baños\")\n",
    "    palabra = palabra.replace(\"baa  o\",\"baños\")\n",
    "    palabra = palabra.replace(\"usd\",\"dolares\")\n",
    "    palabra = palabra.replace(\"u$d\",\"dolares\")\n",
    "    palabra = palabra.replace(\"u$s\",\"dolares\")\n",
    "    palabra = palabra.replace(\"$\",\"pesos\")\n",
    "    palabra = palabra.replace(\"garage\",\"cochera\")\n",
    "    palabra = palabra.replace(\"laundry\",\"lavadero\")\n",
    "    palabra = palabra.replace(\"piscina\",\"pileta\")\n",
    "    \n",
    "    palabra = palabra.strip()\n",
    "    \n",
    "    if palabra not in nocontar:\n",
    "        if palabra != \"\":\n",
    "            if palabra not in contarpalabras:\n",
    "                contarpalabras[palabra] = 1\n",
    "            else:\n",
    "                contarpalabras[palabra] += 1\n",
    "            \n",
    "n_print = 10\n",
    "print(\"Estas son las {} palabras mas comunes\\n\".format(n_print))\n",
    "contar_palabras = collections.Counter(contarpalabras)\n",
    "for palabra, cantidad in contar_palabras.most_common(n_print):\n",
    "    print(palabra, \": \", cantidad)\n",
    "\n",
    "#se cierra la fila\n",
    "archivo.close()\n",
    "\n",
    "# df con las palabras mas comunes\n",
    "lst = contar_palabras.most_common(n_print)\n",
    "df = pd.DataFrame(lst, columns = ['Palabra', 'Cantidad'])\n",
    "\n",
    "# grafico de barras\n",
    "df.plot.bar(x='Palabra',y='Cantidad')"
   ]
  }
 ],
 "metadata": {
  "kernelspec": {
   "display_name": "Python 3",
   "language": "python",
   "name": "python3"
  },
  "language_info": {
   "codemirror_mode": {
    "name": "ipython",
    "version": 3
   },
   "file_extension": ".py",
   "mimetype": "text/x-python",
   "name": "python",
   "nbconvert_exporter": "python",
   "pygments_lexer": "ipython3",
   "version": "3.6.5"
  }
 },
 "nbformat": 4,
 "nbformat_minor": 2
}
