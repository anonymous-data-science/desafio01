{
 "cells": [
  {
   "cell_type": "code",
   "execution_count": null,
   "metadata": {},
   "outputs": [],
   "source": [
    "#Proceso03\n",
    "#visualizar relacion entre las variables\n",
    "#buscar valores fueras de rango"
   ]
  },
  {
   "cell_type": "code",
   "execution_count": null,
   "metadata": {},
   "outputs": [],
   "source": [
    "#importando librerias que se piensan utilizar\n",
    "import numpy as np\n",
    "import pandas as pd\n",
    "import unidecode\n",
    "import re\n",
    "import pandas as pd"
   ]
  },
  {
   "cell_type": "code",
   "execution_count": null,
   "metadata": {},
   "outputs": [],
   "source": [
    "import matplotlib.pyplot as plt\n",
    "%matplotlib inline\n",
    "import seaborn as sns\n",
    "sns.set(style = \"whitegrid\")\n",
    "\n",
    "import matplotlib.pyplot as plt\n",
    "\n",
    "#funciones graficas\n",
    "\n",
    "def plot_dist(lista):\n",
    "    '''\n",
    "    Input: serie\n",
    "    Return: subplots con la distribucion original boxplot e hist&kde\n",
    "    '''\n",
    "    plt.figure(figsize=(12,8))\n",
    "    \n",
    "    plt.subplot(211)\n",
    "    sns.boxplot(lista)\n",
    "    plt.title(f'{lista.name}\\n Max={np.max(lista):.0f} Median={np.median(lista):.0f} Min={np.min(lista):.0f}')\n",
    "\n",
    "    plt.subplot(212)\n",
    "    sns.distplot(lista)\n",
    "\n",
    "    plt.tight_layout()\n",
    "    plt.show()"
   ]
  },
  {
   "cell_type": "code",
   "execution_count": null,
   "metadata": {},
   "outputs": [],
   "source": [
    "propiedades = pd.read_csv('../data/out_proceso02.csv', decimal=\".\")"
   ]
  },
  {
   "cell_type": "code",
   "execution_count": null,
   "metadata": {},
   "outputs": [],
   "source": [
    "propiedades.columns"
   ]
  },
  {
   "cell_type": "code",
   "execution_count": null,
   "metadata": {},
   "outputs": [],
   "source": [
    "#filtro inicial sobre la informacion sobre la que vamos a trabajar\n",
    "analizar = propiedades[(propiedades['provincia'] == 'capital federal') & \n",
    "                                   (propiedades['tipo_propiedad'] == 'departamento')].copy()\n",
    "\n",
    "sns.heatmap(analizar[['precio','sup_m2','valor_m2','expensas']].corr(), square=True, annot=True, cmap=\"YlGnBu\")"
   ]
  },
  {
   "cell_type": "code",
   "execution_count": null,
   "metadata": {},
   "outputs": [],
   "source": [
    "#se reemplaza string vacio por np.nan\n",
    "analizar.replace(to_replace=np.nan, value=0, inplace=True)\n",
    "\n",
    "plot_dist(analizar.valor_m2)"
   ]
  },
  {
   "cell_type": "code",
   "execution_count": null,
   "metadata": {},
   "outputs": [],
   "source": [
    "#buscamos valor_m2 fuera de rango\n",
    "valores = analizar.groupby('ciudad_barrio').agg({'valor_m2':['count','mean','max','min']})\n",
    "valores.sort_values(by=[('valor_m2','mean')], ascending=False)"
   ]
  },
  {
   "cell_type": "code",
   "execution_count": null,
   "metadata": {},
   "outputs": [],
   "source": [
    "#buscamos valores fuera de rango\n",
    "analizar.agg({'sup_m2':['mean','max','min'], 'valor_m2':['mean','max','min']},)"
   ]
  },
  {
   "cell_type": "code",
   "execution_count": null,
   "metadata": {},
   "outputs": [],
   "source": [
    "#se aplican nuevos filtros para descartar emprendimientos y outlier\n",
    "analizar = propiedades[(propiedades['provincia'] == 'capital federal') & \n",
    "                       (propiedades['tipo_propiedad'] == 'departamento') & \n",
    "                       (propiedades['emprendimiento'] == False) &\n",
    "                       (propiedades['valor_m2'] > 750) & \n",
    "                       (propiedades['valor_m2'] < 10000) & \n",
    "                       (propiedades['sup_m2'] > 10) &\n",
    "                       (propiedades['sup_m2'] < 1000)\n",
    "                      ].copy()\n",
    "\n",
    "sns.heatmap(analizar[['precio','sup_m2','valor_m2','expensas']].corr(), square=True, annot=True, cmap=\"YlGnBu\")"
   ]
  },
  {
   "cell_type": "code",
   "execution_count": null,
   "metadata": {},
   "outputs": [],
   "source": [
    "valores = analizar.groupby('ciudad_barrio').agg({'valor_m2':['count','mean','max','min']})\n",
    "valores.sort_values(by=[('valor_m2','mean')], ascending=False)"
   ]
  },
  {
   "cell_type": "code",
   "execution_count": null,
   "metadata": {},
   "outputs": [],
   "source": [
    "plot_dist(analizar.valor_m2)"
   ]
  },
  {
   "cell_type": "code",
   "execution_count": null,
   "metadata": {},
   "outputs": [],
   "source": [
    "#buscamos valores fuera de rango\n",
    "analizar[['valor_m2','sup_m2']].describe()"
   ]
  },
  {
   "cell_type": "code",
   "execution_count": null,
   "metadata": {},
   "outputs": [],
   "source": [
    "#se guarda csv completo\n",
    "analizar.to_dense().to_csv(\"../data/out_proceso03.csv\", index = False, sep=',', encoding='utf-8')"
   ]
  }
 ],
 "metadata": {
  "kernelspec": {
   "display_name": "Python 3",
   "language": "python",
   "name": "python3"
  },
  "language_info": {
   "codemirror_mode": {
    "name": "ipython",
    "version": 3
   },
   "file_extension": ".py",
   "mimetype": "text/x-python",
   "name": "python",
   "nbconvert_exporter": "python",
   "pygments_lexer": "ipython3",
   "version": "3.6.5"
  }
 },
 "nbformat": 4,
 "nbformat_minor": 2
}
