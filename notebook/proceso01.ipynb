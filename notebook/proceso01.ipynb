{
 "cells": [
  {
   "cell_type": "code",
   "execution_count": null,
   "metadata": {},
   "outputs": [],
   "source": [
    "#Proceso01\n",
    "#se va a trabajar sobre todas las columnas para realizar una primera exploracion de los datos.\n",
    "#se va a generar un nuevo csv como salida de este proceso para poder trabajarlo posteriormente"
   ]
  },
  {
   "cell_type": "code",
   "execution_count": null,
   "metadata": {},
   "outputs": [],
   "source": [
    "#importando librerias que se piensan utilizar\n",
    "import numpy as np\n",
    "import pandas as pd\n",
    "import seaborn as sns\n",
    "import unidecode\n",
    "import re\n",
    "import pandas as pd"
   ]
  },
  {
   "cell_type": "code",
   "execution_count": null,
   "metadata": {},
   "outputs": [],
   "source": [
    "#\n",
    "# funciones comunes\n",
    "#\n",
    "\n",
    "#funcion para normalizar texto a unicode y a minuscula\n",
    "def normalizar_string(texto):\n",
    "    return str.lower(unidecode.unidecode(texto))"
   ]
  },
  {
   "cell_type": "code",
   "execution_count": null,
   "metadata": {},
   "outputs": [],
   "source": [
    "#leyedo datos de properatti.csv\n",
    "propiedades = pd.read_csv('../data/properatti.csv', decimal=\".\")\n",
    "\n",
    "#renombrado primer columana que no tiene nombre\n",
    "propiedades.rename(columns={'Unnamed: 0':'id'}, inplace=True)\n",
    "\n",
    "#tamaño y forma del df\n",
    "propiedades.shape"
   ]
  },
  {
   "cell_type": "code",
   "execution_count": null,
   "metadata": {},
   "outputs": [],
   "source": [
    "propiedades.columns"
   ]
  },
  {
   "cell_type": "code",
   "execution_count": null,
   "metadata": {},
   "outputs": [],
   "source": [
    "propiedades.head()"
   ]
  },
  {
   "cell_type": "code",
   "execution_count": null,
   "metadata": {},
   "outputs": [],
   "source": [
    "#\n",
    "#'id'\n",
    "#\n",
    "\n",
    "#verificamos si id no esta repetido para poder utilizarlo como id unico.\n",
    "#si el count no es 0 hay duplicados.\n",
    "dfTemp = propiedades[['id']].copy()\n",
    "dfTemp[dfTemp['id'].duplicated(keep=False)].count() > 1"
   ]
  },
  {
   "cell_type": "code",
   "execution_count": null,
   "metadata": {},
   "outputs": [],
   "source": [
    "#nuevo df para ir guardando los datos procesados.\n",
    "dfNuevo = dfTemp"
   ]
  },
  {
   "cell_type": "code",
   "execution_count": null,
   "metadata": {},
   "outputs": [],
   "source": [
    "#\n",
    "#'operation'\n",
    "#\n",
    "\n",
    "#agrupamos para ver que tipo de operaciones hay y si alguna fila que no tiene tipo asignado\n",
    "dfTemp = propiedades[['id','operation']].copy()\n",
    "dfTemp.groupby('operation').count()"
   ]
  },
  {
   "cell_type": "code",
   "execution_count": null,
   "metadata": {},
   "outputs": [],
   "source": [
    "#se le suma una columna pais con valor argentina al df.\n",
    "dfNuevo['operacion'] = 'venta'"
   ]
  },
  {
   "cell_type": "code",
   "execution_count": null,
   "metadata": {},
   "outputs": [],
   "source": [
    "#\n",
    "#'property_type'\n",
    "#\n",
    "\n",
    "#agrupamos para ver que tipo de propiedades hay y si alguna fila que no tiene tipo asignado\n",
    "dfTemp = propiedades[['id','property_type']].copy()\n",
    "dfTemp.groupby('property_type').count()"
   ]
  },
  {
   "cell_type": "code",
   "execution_count": null,
   "metadata": {},
   "outputs": [],
   "source": [
    "#diccionario de palabras ingles/castellano\n",
    "tipo_propiedades = {\n",
    "  'ph': 'ph',\n",
    "  'apartment': 'departamento',\n",
    "  'house': 'casa',\n",
    "  'store': 'local'\n",
    "}\n",
    "\n",
    "#se pasa todo a minuscula\n",
    "dfTemp['property_type'] = dfTemp['property_type'].map(str.lower)\n",
    "\n",
    "#se genera nueva columna con el valor que tomamos del diccionanio.\n",
    "dfTemp['tipo_propiedad'] = dfTemp['property_type'].map(tipo_propiedades)\n",
    "\n",
    "#se elimina la columna con datos en ingles y la columna id usada para el count.\n",
    "dfTemp.drop(['id'], axis=1, inplace=True)\n",
    "dfTemp.drop(['property_type'], axis=1, inplace=True)\n",
    "\n",
    "#se suma al df las columnas tipo_propiedad\n",
    "dfNuevo = dfNuevo.join(dfTemp)\n",
    "\n",
    "dfNuevo['pais'] = 'argentina'"
   ]
  },
  {
   "cell_type": "code",
   "execution_count": null,
   "metadata": {},
   "outputs": [],
   "source": [
    "#agrupamos para ver que paises hay y si alguna fila que no tiene tipo asignado\n",
    "dfTemp = propiedades[['id','country_name']].copy()\n",
    "dfTemp.groupby('country_name').count()"
   ]
  },
  {
   "cell_type": "code",
   "execution_count": null,
   "metadata": {},
   "outputs": [],
   "source": [
    "#\n",
    "#'property_type'\n",
    "#\n",
    "\n",
    "#se le suma una columna pais con valor argentina al df.\n",
    "dfNuevo['pais'] = 'argentina'"
   ]
  },
  {
   "cell_type": "code",
   "execution_count": null,
   "metadata": {},
   "outputs": [],
   "source": [
    "dfNuevo.head()"
   ]
  },
  {
   "cell_type": "code",
   "execution_count": null,
   "metadata": {},
   "outputs": [],
   "source": [
    "#\n",
    "# 'place_with_parent_names'\n",
    "#\n",
    "\n",
    "#se separa contenido de la columna place_with_parent_names\n",
    "dfTemp = pd.DataFrame(propiedades['place_with_parent_names'].str.split('|', expand=True))\n",
    "\n",
    "#se reemplaza espacios vacios (None) por string vacios\n",
    "dfTemp.fillna(value='', inplace=True)\n",
    "\n",
    "#se reemplaza string vacio por np.nan\n",
    "dfTemp.replace(to_replace='', value=np.nan, inplace=True)\n",
    "\n",
    "#se detectar que columna no contiene datos y se elimina -> vacia es igual a 121219\n",
    "for column in dfTemp.columns:\n",
    "    datos = dfTemp[column].isnull().sum()\n",
    "    if datos == 121219:\n",
    "        print(\"columna\",column,\"vacia\")\n",
    "        dfTemp.drop([column], axis=1, inplace=True)\n",
    "    else:\n",
    "        print(\"columna\",column,\"con\",121219-datos,\"registros\")\n",
    "\n",
    "#se vuelven a poner los campos como string vacios\n",
    "dfTemp.replace(to_replace=np.nan, value='', inplace=True)\n",
    "\n",
    "#se normaliza el contenido de las columnas string\n",
    "dfTemp = pd.DataFrame(dfTemp.applymap(normalizar_string))\n",
    "\n",
    "dfTemp.head(20)"
   ]
  },
  {
   "cell_type": "code",
   "execution_count": null,
   "metadata": {},
   "outputs": [],
   "source": [
    "#se elimina la columna pais que ya fue cargada\n",
    "dfTemp.drop([1], axis=1, inplace=True)\n",
    "\n",
    "#se le asigna nombre a las columnas\n",
    "dfTemp.columns=['provincia', 'ciudad_barrio', 'barrio', 'barrio_cerrado']\n",
    "\n",
    "dfNuevo.head(20)"
   ]
  },
  {
   "cell_type": "code",
   "execution_count": null,
   "metadata": {},
   "outputs": [],
   "source": [
    "#\n",
    "#place_name\n",
    "#\n",
    "\n",
    "#se suma place_name al dfTemp para trabajar en conjunto con las columnas de place_with_parent_names.\n",
    "#se asume que place_name puede ser un barrio o una ciudad.\n",
    "dfTemp = dfTemp.join(propiedades['place_name'])\n",
    "dfTemp.replace(to_replace=np.nan, value='', inplace=True)\n",
    "\n",
    "#se normaliza el contenido de las columnas string\n",
    "dfTemp = pd.DataFrame(dfTemp.applymap(normalizar_string))\n",
    "\n",
    "#se toma ciudad_barrio como valor correcto en caso de estar, sobre el contenido de place_name\n",
    "dfTemp = dfTemp.join(pd.DataFrame(dfTemp.apply(lambda x: x['ciudad_barrio'] if(x['ciudad_barrio']!='') else ('' if(x['place_name'] == 'capital federal') else x['place_name']), axis=1)))\n",
    "\n",
    "#se eliminana columna ya procesada \n",
    "dfTemp.drop(['ciudad_barrio'], axis=1, inplace=True)\n",
    "\n",
    "#se renombran la columna generada e el join como nueva ciudad_barrio\n",
    "dfTemp.rename(columns={0: 'ciudad_barrio'}, inplace=True)\n",
    "\n",
    "dfTemp.head()"
   ]
  },
  {
   "cell_type": "code",
   "execution_count": null,
   "metadata": {},
   "outputs": [],
   "source": [
    "#\n",
    "#barrio\n",
    "#\n",
    "\n",
    "#si provincia es capital_federal y ciudad_barrio es igual a barrio se asigna string vacio a barrio.\n",
    "#si place_name es igual a ciudad_barrio y barrio es vacio se asigna string vacio a barrio.\n",
    "#si barrio es vacio ponemos el valor de place\n",
    "#sino dejamos el valor de barrio.\n",
    "dfTemp = dfTemp.join(\n",
    "    pd.DataFrame(\n",
    "        dfTemp.apply(lambda x: '' \n",
    "                     if(x['provincia']=='capital federal' and x['ciudad_barrio']==x['barrio'])\n",
    "                     else('' if(x['place_name']==x['ciudad_barrio'] and x['barrio']=='') \n",
    "                          else(x['place_name'] \n",
    "                               if(x['barrio']=='') \n",
    "                               else x['barrio']\n",
    "                              )\n",
    "                         ), axis=1\n",
    "                    )\n",
    "    )\n",
    ")\n",
    "\n",
    "#\n",
    "#ejemplo\n",
    "#\n",
    "#['capital federal', '', 'barrio_cerrado', 'palermo', 'capital federal'] -> '' (aplica regla 1, no tiene barrio)\n",
    "#['capital federal', '', 'barrio_cerrado', 'palermo', 'palermo']  -> '' (aplica regla 2, para no repetir palermo)\n",
    "#['capital federal', '', 'barrio_cerrado', 'palermo soho', 'palermo'] -> 'palermo soho' (aplica regla 3, sabemos \n",
    "#que no va a ser capital federal, savemos que no repite barrio)\n",
    "#['capital federal', 'palermo soho', 'barrio_cerrado', 'palermo', 'palermo', ''] -> 'palermo soho'\n",
    "\n",
    "#se eliminana columnas ya procesadas o que no se van a utilizar\n",
    "dfTemp.drop(['barrio'], axis=1, inplace=True)\n",
    "dfTemp.drop(['place_name'], axis=1, inplace=True)\n",
    "\n",
    "#se renombran la columna 0 a barrio\n",
    "dfTemp.rename(columns={0: 'barrio'}, inplace=True)\n",
    "\n",
    "#se suma al df las columnas completas y las nuevas barrio y barrio_cerrado\n",
    "dfNuevo = dfNuevo.join(dfTemp)\n",
    "\n",
    "dfNuevo.head(20)"
   ]
  },
  {
   "cell_type": "code",
   "execution_count": null,
   "metadata": {},
   "outputs": [],
   "source": [
    "#\n",
    "#barrio_cerrado\n",
    "#\n",
    "\n",
    "#se lleva la columna barrio_cerrado al final del df\n",
    "dfTemp = dfNuevo.pop('barrio_cerrado')\n",
    "\n",
    "dfNuevo = dfNuevo.join(dfTemp)\n",
    "\n",
    "dfNuevo.head(20)"
   ]
  },
  {
   "cell_type": "code",
   "execution_count": null,
   "metadata": {},
   "outputs": [],
   "source": [
    "#\n",
    "# transformar 'geonames_id' en una URL\n",
    "#\n",
    "# TODO: Enriquecer información geográfica de la ciudad/barrio/comuna para poder compararla con \n",
    "# los datos ya provistos y sanear la ubicación geográfica.\n",
    "\n",
    "#df temporal es para poder aplicarle una funciona lambda, transformo el dato a integer y reemplazo NaN a 0\n",
    "dfTemp = propiedades[['geonames_id']].copy()\n",
    "dfTemp.replace(to_replace=np.nan, value=0, inplace=True)\n",
    "dfTemp = dfTemp.astype(np.int64)\n",
    "\n",
    "#se arma la url de geonames sumando el id\n",
    "dfTemp = pd.DataFrame(dfTemp.apply(lambda x: 'http://www.geonames.org/'+str(x['geonames_id']) if(x['geonames_id']!=0) else '', axis=1))\n",
    "\n",
    "#se renombran la columna nueva\n",
    "dfTemp.columns=['geonames_url']\n",
    "\n",
    "#se suma al df la nueva columna geonames_url\n",
    "dfNuevo = dfNuevo.join(dfTemp)\n",
    "\n",
    "dfNuevo.head()"
   ]
  },
  {
   "cell_type": "code",
   "execution_count": null,
   "metadata": {},
   "outputs": [],
   "source": [
    "#\n",
    "#funcion para verificar lat y lon\n",
    "#\n",
    "\n",
    "#patrones\n",
    "patron_lat = re.compile('^-?([1-8]?[1-9]|[1-9]0)\\.{1}\\d{1,6}')\n",
    "patron_lon = re.compile('^-?([1]?[1-7][1-9]|[1]?[1-8][0]|[1-9]?[0-9])\\.{1}\\d{1,6}')\n",
    "\n",
    "def verificar_lat(lat):\n",
    "    var = True\n",
    "    \n",
    "    if(patron_lat.match(lat)==None):\n",
    "        var = False\n",
    "    elif(float(lat)>0):\n",
    "        #por estar bajo el ecuador\n",
    "        var = False\n",
    "        \n",
    "    return var\n",
    "\n",
    "def verificar_lon(lon):\n",
    "    var = True\n",
    "    \n",
    "    if(patron_lon.match(lon)==None):\n",
    "        var = False\n",
    "    elif(float(lon)>0):    \n",
    "        #por estar al oeste de greenwich\n",
    "        var = False\n",
    "        \n",
    "    return var"
   ]
  },
  {
   "cell_type": "code",
   "execution_count": null,
   "metadata": {},
   "outputs": [],
   "source": [
    "#\n",
    "#'lat','lon'\n",
    "#\n",
    "\n",
    "dfTemp = propiedades[['lat','lon']].copy()\n",
    "\n",
    "dfTemp = dfTemp.join(propiedades['lat-lon'].str.split(',', expand=True))\n",
    "\n",
    "#se renombran la columna generada en el join como nueva ciudad_barrio\n",
    "dfTemp.rename(columns={0: 'latsplit'}, inplace=True)\n",
    "dfTemp.rename(columns={1: 'lonsplit'}, inplace=True)\n",
    "\n",
    "print(dfTemp.count())\n",
    "\n",
    "dfTemp.head(5)"
   ]
  },
  {
   "cell_type": "code",
   "execution_count": null,
   "metadata": {},
   "outputs": [],
   "source": [
    "#se considera los valores de ['lat-lon'] como validos. (parecen ser similares a simple vista y \n",
    "#cantidad de registros)\n",
    "#verifican los nulos en latsplit y se completan con los de las columnas separadas.\n",
    "\n",
    "dfTemp['nueva_lat'] = dfTemp[['lat', 'latsplit']].apply(lambda x: x['latsplit'] \n",
    "                                                        if(not np.isnan(float(x['latsplit']))) \n",
    "                                                        else x['lat'], axis=1\n",
    "                                                       )\n",
    "\n",
    "dfTemp['nueva_lon'] = dfTemp[['lon', 'lonsplit']].apply(lambda x: x['lonsplit'] \n",
    "                                                        if(not np.isnan(float(x['lonsplit']))) \n",
    "                                                        else x['lon'], axis=1\n",
    "                                                       )\n",
    "\n",
    "#nos quedamos con los nuevos valores\n",
    "dfTemp = dfTemp[['nueva_lat','nueva_lon']]\n",
    "\n",
    "dfTemp.head()"
   ]
  },
  {
   "cell_type": "code",
   "execution_count": null,
   "metadata": {},
   "outputs": [],
   "source": [
    "#se reemplaza string vacio por np.nan y pasamos a tipo string para poder evaluarlos con una regex\n",
    "dfTemp.replace(to_replace=np.nan, value='', inplace=True)\n",
    "dfTemp = dfTemp.astype('str')\n",
    "\n",
    "#verificamos si lat son validas\n",
    "dfTemp = dfTemp.join(pd.DataFrame(dfTemp.apply(lambda x: x['nueva_lat'] \n",
    "                                               if(verificar_lat(x['nueva_lat'])) \n",
    "                                               else np.nan, axis=1\n",
    "                                              )\n",
    "                                 )\n",
    "                    )\n",
    "\n",
    "dfTemp.drop(['nueva_lat'], axis=1, inplace=True)\n",
    "dfTemp.rename(columns={0: 'lat'}, inplace=True)\n",
    "\n",
    "#verificamos si lon son validas\n",
    "dfTemp = dfTemp.join(pd.DataFrame(dfTemp.apply(lambda x: x['nueva_lon'] \n",
    "                                               if(verificar_lon(x['nueva_lon'])) \n",
    "                                               else np.nan, axis=1\n",
    "                                              )\n",
    "                                 )\n",
    "                    )\n",
    "\n",
    "dfTemp.drop(['nueva_lon'], axis=1, inplace=True)\n",
    "dfTemp.rename(columns={0: 'lon'}, inplace=True)\n",
    "\n",
    "#se suma al df las columnas lat lon\n",
    "dfNuevo = dfNuevo.join(dfTemp)\n",
    "\n",
    "dfNuevo.head()"
   ]
  },
  {
   "cell_type": "code",
   "execution_count": null,
   "metadata": {},
   "outputs": [],
   "source": [
    "#\n",
    "#'precio'\n",
    "#\n",
    "# TODO: ver que pasa si price_aprox_usd no tiene valor en dolares.\n",
    "\n",
    "#df temporal es para poder formatear (price)  \n",
    "dfTemp = propiedades[['price_aprox_usd']].copy()\n",
    "\n",
    "#se renombran la columna a precio\n",
    "dfTemp.columns=['precio']\n",
    "\n",
    "#se suma al df la columna precio\n",
    "dfNuevo = dfNuevo.join(dfTemp)"
   ]
  },
  {
   "cell_type": "code",
   "execution_count": null,
   "metadata": {},
   "outputs": [],
   "source": [
    "#\n",
    "#'currency'\n",
    "#\n",
    "\n",
    "#agrupamos para ver que monedas hay y si alguna fila que no tiene tipo asignado\n",
    "dfTemp = propiedades[['id','currency']].copy()\n",
    "dfTemp.groupby('currency').count()"
   ]
  },
  {
   "cell_type": "code",
   "execution_count": null,
   "metadata": {},
   "outputs": [],
   "source": [
    "#se crea la columna moneda y se le asigna valor usd ya que vamos a trabajar en dolares.\n",
    "dfNuevo['moneda'] = 'usd'\n",
    "\n",
    "dfNuevo.head()"
   ]
  },
  {
   "cell_type": "code",
   "execution_count": null,
   "metadata": {},
   "outputs": [],
   "source": [
    "#\n",
    "#'total_m2','total_m2_cubiertos','total_m2_decubiertos'\n",
    "#\n",
    "\n",
    "#df temporal es para poder aplicarle una funciona lambda\n",
    "dfTemp = propiedades[['surface_total_in_m2','surface_covered_in_m2']].copy()\n",
    "\n",
    "#si surface_total_in_m2 y surface_covered_in_m2 son distintos de 0 y surface_total_in_m2 mayor/igual \n",
    "#surface_covered_in_m2 se calcula la superficie descubierta.\n",
    "dfTemp = dfTemp.join(pd.DataFrame(dfTemp.apply(lambda x: \n",
    "                                               x['surface_total_in_m2']-x['surface_covered_in_m2'] \n",
    "                                               if(x['surface_total_in_m2'] > x['surface_covered_in_m2']\n",
    "                                                  and x['surface_covered_in_m2'] > 0) \n",
    "                                               else np.nan, axis=1)\n",
    "                                 )\n",
    "                    )\n",
    "\n",
    "dfTemp.columns=['sup_m2','sup_m2_cubiertos','sup_m2_decubiertos']\n",
    "    \n",
    "#se suma al df las columnas total_m2, total_m2_cubiertos, total_m2_decubiertos(nueva)\n",
    "dfNuevo = dfNuevo.join(dfTemp)\n",
    "\n",
    "dfNuevo.head()"
   ]
  },
  {
   "cell_type": "code",
   "execution_count": null,
   "metadata": {},
   "outputs": [],
   "source": [
    "#\n",
    "#nueva columna valor_m2\n",
    "#\n",
    "\n",
    "#df temporal es para poder aplicarle una funciona lambda\n",
    "dfTemp = dfNuevo[['precio','sup_m2']].copy()\n",
    "\n",
    "#division para tener el valor del m2\n",
    "#si precio y total_m2 son mayor 0 se realiza la division.\n",
    "#sino no se asigna np.nan al valor del m2\n",
    "dfTemp = pd.DataFrame(dfTemp.apply(lambda x: x['precio']/x['sup_m2'] \n",
    "                                   if(x['precio'] > 0 and x['sup_m2'] > 0 and x['precio'] > x['sup_m2']) \n",
    "                                   else np.nan, axis=1\n",
    "                                  )\n",
    "                     )\n",
    "\n",
    "dfTemp.columns=['valor_m2']\n",
    "\n",
    "#se suma al df la nueva columna valor_m2\n",
    "dfNuevo = dfNuevo.join(dfTemp)\n",
    "\n",
    "dfNuevo.head()"
   ]
  },
  {
   "cell_type": "code",
   "execution_count": null,
   "metadata": {},
   "outputs": [],
   "source": [
    "#\n",
    "#floor\n",
    "#\n",
    "\n",
    "#df temporal es para poder trabajar sombre la columna floor\n",
    "dfTemp = propiedades[['property_type','floor']].copy()\n",
    "\n",
    "#mayores a 54 se considera no informado. No hay edificios con mas de 54 pisos en argentina.\n",
    "dfTemp.loc[dfTemp['floor'] > 54] = 'mal informado'\n",
    "\n",
    "#se reemplazo NaN a 'no informado'\n",
    "dfTemp.replace(to_replace=np.nan , value='no informado', inplace=True)\n",
    "\n",
    "#Casa no requiere informar piso 'No requerido'\n",
    "dfTemp = pd.DataFrame(dfTemp.apply(lambda x: x['floor'] \n",
    "                                   if(x['property_type']!='house') \n",
    "                                   else 'no requerido', axis=1\n",
    "                                  )\n",
    "                     )\n",
    "\n",
    "dfTemp.columns=['piso']\n",
    "\n",
    "#se suma al df la columna piso\n",
    "dfNuevo = dfNuevo.join(dfTemp)\n",
    "\n",
    "dfNuevo.head()"
   ]
  },
  {
   "cell_type": "code",
   "execution_count": null,
   "metadata": {},
   "outputs": [],
   "source": [
    "#\n",
    "#rooms\n",
    "#\n",
    "\n",
    "#df temporal es para poder trabajar sombre la columna rooms\n",
    "dfTemp = propiedades[['rooms']].copy()\n",
    "\n",
    "#se reemplazo NaN a 'no informado'\n",
    "dfTemp.replace(to_replace=np.nan , value='no informado', inplace=True)\n",
    "dfTemp.replace(to_replace='' , value='no informado', inplace=True)\n",
    "\n",
    "dfTemp.columns=['habitaciones']\n",
    "\n",
    "#se suma al df la columna habitaciones\n",
    "dfNuevo = dfNuevo.join(dfTemp)\n",
    "\n",
    "dfNuevo.head()"
   ]
  },
  {
   "cell_type": "code",
   "execution_count": null,
   "metadata": {},
   "outputs": [],
   "source": [
    "#\n",
    "#expenses\n",
    "#\n",
    "\n",
    "#df temporal es para poder trabajar sombre la columna expenses\n",
    "dfTemp = propiedades[['expenses']].copy()\n",
    "\n",
    "dfTemp.columns=['expensas']\n",
    "\n",
    "#se suma al df la columna expensas\n",
    "dfNuevo = dfNuevo.join(dfTemp)\n",
    "\n",
    "dfNuevo.head()"
   ]
  },
  {
   "cell_type": "code",
   "execution_count": null,
   "metadata": {},
   "outputs": [],
   "source": [
    "#\n",
    "#properati_url\n",
    "#\n",
    "# TODO: ver qué se puede obtener con este feature"
   ]
  },
  {
   "cell_type": "code",
   "execution_count": null,
   "metadata": {},
   "outputs": [],
   "source": [
    "#\n",
    "#title\n",
    "#\n",
    "\n",
    "#df temporal para renombrarar columna \n",
    "dfTemp = pd.DataFrame(propiedades[['title']])\n",
    "\n",
    "#se reemplazo NaN a 'no informado'\n",
    "dfTemp.replace(to_replace=np.nan , value='no informado', inplace=True)\n",
    "\n",
    "#se normaliza el contenido de las columnas string\n",
    "dfTemp = pd.DataFrame(dfTemp.applymap(normalizar_string))\n",
    "dfTemp.columns=['titulo']\n",
    "\n",
    "#se suma al df la columna titulo\n",
    "dfNuevo = dfNuevo.join(dfTemp)\n",
    "\n",
    "dfNuevo.head()"
   ]
  },
  {
   "cell_type": "code",
   "execution_count": null,
   "metadata": {},
   "outputs": [],
   "source": [
    "#\n",
    "#description\n",
    "#\n",
    "\n",
    "#df temporal para renombrarar columna \n",
    "dfTemp = pd.DataFrame(propiedades[['description']])\n",
    "\n",
    "#se reemplazo NaN a 'no informado'\n",
    "dfTemp.replace(to_replace=np.nan , value='no informado', inplace=True)\n",
    "\n",
    "#se normaliza el contenido de las columnas string\n",
    "dfTemp = pd.DataFrame(dfTemp.applymap(normalizar_string))\n",
    "dfTemp.columns=['descripcion']\n",
    "\n",
    "#se suma al df la columna descripcion\n",
    "dfNuevo = dfNuevo.join(dfTemp)\n",
    "\n",
    "dfNuevo.head()"
   ]
  },
  {
   "cell_type": "code",
   "execution_count": null,
   "metadata": {
    "scrolled": true
   },
   "outputs": [],
   "source": [
    "dfNuevo.columns"
   ]
  },
  {
   "cell_type": "code",
   "execution_count": null,
   "metadata": {},
   "outputs": [],
   "source": [
    "#se guarda csv completo\n",
    "dfNuevo.to_dense().to_csv(\"../data/out_proceso01.csv\", index = False, sep=',', encoding='utf-8')"
   ]
  }
 ],
 "metadata": {
  "kernelspec": {
   "display_name": "Python 3",
   "language": "python",
   "name": "python3"
  },
  "language_info": {
   "codemirror_mode": {
    "name": "ipython",
    "version": 3
   },
   "file_extension": ".py",
   "mimetype": "text/x-python",
   "name": "python",
   "nbconvert_exporter": "python",
   "pygments_lexer": "ipython3",
   "version": "3.6.5"
  }
 },
 "nbformat": 4,
 "nbformat_minor": 2
}
