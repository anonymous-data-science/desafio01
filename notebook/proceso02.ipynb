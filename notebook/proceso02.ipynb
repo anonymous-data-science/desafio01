{
 "cells": [
  {
   "cell_type": "code",
   "execution_count": null,
   "metadata": {},
   "outputs": [],
   "source": [
    "#Proceso02\n",
    "#se va a trabajara sobre todas las columnas descripcion y titulo para conseguir nuevas columnas"
   ]
  },
  {
   "cell_type": "code",
   "execution_count": null,
   "metadata": {},
   "outputs": [],
   "source": [
    "import numpy as np\n",
    "import pandas as pd\n",
    "import re"
   ]
  },
  {
   "cell_type": "code",
   "execution_count": null,
   "metadata": {},
   "outputs": [],
   "source": [
    "propiedades = pd.read_csv('../data/out_proceso01.csv', decimal=\".\")"
   ]
  },
  {
   "cell_type": "code",
   "execution_count": null,
   "metadata": {},
   "outputs": [],
   "source": [
    "propiedades.head()"
   ]
  },
  {
   "cell_type": "code",
   "execution_count": null,
   "metadata": {},
   "outputs": [],
   "source": [
    "#funciones de busqueda de datos\n",
    "def dormitorios(descripcion):\n",
    "    x = re.findall('( [0-9]{2,2}| [0-9]) (dormitorios)', descripcion)\n",
    "    if x :\n",
    "        return(x)\n",
    "\n",
    "def ambientes(descripcion):\n",
    "    x = re.findall('( [0-9]{2,2}| [0-9]) (ambientes)', descripcion)\n",
    "    if x :\n",
    "        return(x)\n",
    "    \n",
    "def credito(descripcion):\n",
    "    x = re.findall('(apto credito)', descripcion)\n",
    "    if x :\n",
    "        return(x)    \n",
    "\n",
    "def enpozo(descripcion):\n",
    "    x = re.findall('(en pozo)', descripcion)\n",
    "    if x :\n",
    "        return(x)\n",
    "\n",
    "def emprendimiento(descripcion):\n",
    "    x = re.findall('(emprendimiento)', descripcion)\n",
    "    if x :\n",
    "        return(x)\n",
    "    \n",
    "def aptoprofesional(descripcion):\n",
    "    x = re.findall('(apto profesional)', descripcion)\n",
    "    if x :\n",
    "        return(x)\n",
    "\n",
    "def habitacionsuite(descripcion):\n",
    "    x = re.findall('(dormitorios en suite)', descripcion)\n",
    "    if x :\n",
    "        return(x)\n",
    "\n",
    "def livingcomedor(descripcion):\n",
    "    x = re.findall('(living comedor)', descripcion)\n",
    "    if x :\n",
    "        return(x)\n",
    "\n",
    "def habitacionservicio(descripcion):\n",
    "    x = re.findall('(dormitorios de servicio)', descripcion)\n",
    "    if x :\n",
    "        return(x)\n",
    "    \n",
    "def banos(descripcion):\n",
    "    x = re.findall('( [0-9]{2,2}| [0-9]) (banos)', descripcion)\n",
    "    if x :\n",
    "        return(x)\n",
    "\n",
    "def piso(descripcion):\n",
    "    x = re.findall('( [0-9]{2,2}| [0-9]) (piso)', descripcion)\n",
    "    if x :\n",
    "        return(x)\n",
    "    \n",
    "def cochera(descripcion):\n",
    "    x = re.findall('(cochera)', descripcion)\n",
    "    if x :\n",
    "        return(x)\n",
    "    \n",
    "def tomarPrimerDato(lista):\n",
    "    for l in lista:\n",
    "        if(int(l[0])<=54):\n",
    "            return (l[0])\n",
    "        else:\n",
    "            return np.nan"
   ]
  },
  {
   "cell_type": "code",
   "execution_count": null,
   "metadata": {},
   "outputs": [],
   "source": [
    "dic = {\n",
    "  'uno': '1',\n",
    "  'dos': '2',\n",
    "  'tres': '3',\n",
    "  'cuatro': '4',\n",
    "  'cinco': '5',\n",
    "  'seis': '6',\n",
    "  'siete': '7',\n",
    "  'ocho': '8',\n",
    "  'nueve': '9',\n",
    "  'diez': '10',\n",
    "  'depto':'departamento',\n",
    "  'dorm':'dormitorios',\n",
    "  'amb':'ambientes',\n",
    "  'ambiente':'ambientes',\n",
    "  'ambientess':'ambientes',\n",
    "  'dormitorioss':'dormitorios',\n",
    "  'dormitorio':'dormitorios',\n",
    "  'habitacion':'dormitorios',\n",
    "  'habitaciones':'dormitorios',\n",
    "  'baa  o':'banos',\n",
    "  'usd':'u$d',\n",
    "  'u$s':'u$d',\n",
    "  'garage':'cochera',\n",
    "  'garaje':'cochera', \n",
    "  'laundry':'lavadero',\n",
    "  'piscina':'pileta',\n",
    "  'swit':'suite',\n",
    "  'dormitorios suite':'dormitorios en suite',\n",
    "  'pre-venta':'emprendimiento',\n",
    "  'desde el pozo':'en pozo',\n",
    "  'venta en pozo':'en pozo',\n",
    "  'construccin':'construccion',\n",
    "  'proyecto en construccion':'emprendimiento',\n",
    "  'financiado':'emprendimiento'\n",
    "}\n",
    "\n",
    "dfDescripcion = propiedades['descripcion']\n",
    "\n",
    "#aplicamos diccionario sobre la columna descripcion\n",
    "for key, valor in dic.items():\n",
    "    dfDescripcion.replace(key, valor, regex=True, inplace=True)"
   ]
  },
  {
   "cell_type": "code",
   "execution_count": null,
   "metadata": {},
   "outputs": [],
   "source": [
    "#se genera nueva columna con el resultado de la funcion piso\n",
    "dfTemp = pd.DataFrame(dfDescripcion.apply(piso))\n",
    "\n",
    "nuevosDatos = pd.DataFrame(\n",
    "    dfTemp.apply(lambda x: tomarPrimerDato(x['descripcion']) \n",
    "                 if(isinstance(x['descripcion'], list)) \n",
    "                 else np.nan, axis=1))\n",
    "\n",
    "nuevosDatos.rename(columns={0:'piso'}, inplace=True)"
   ]
  },
  {
   "cell_type": "code",
   "execution_count": null,
   "metadata": {},
   "outputs": [],
   "source": [
    "#se genera nueva columna con el resultado de la funcion dormitorios\n",
    "dfTemp = pd.DataFrame(dfDescripcion.apply(dormitorios))\n",
    "\n",
    "nuevosDatos = nuevosDatos.join(pd.DataFrame(\n",
    "    dfTemp.apply(lambda x: tomarPrimerDato(x['descripcion']) \n",
    "                 if(isinstance(x['descripcion'], list)) \n",
    "                 else np.nan, axis=1)))\n",
    "\n",
    "nuevosDatos.rename(columns={0:'dormitorios'}, inplace=True)"
   ]
  },
  {
   "cell_type": "code",
   "execution_count": null,
   "metadata": {},
   "outputs": [],
   "source": [
    "#se genera nueva columna con el resultado de la funcion ambientes\n",
    "dfTemp = pd.DataFrame(dfDescripcion.apply(ambientes))\n",
    "\n",
    "#se genera nueva columna con el resultado de la funcion ambientes\n",
    "nuevosDatos = nuevosDatos.join(pd.DataFrame(\n",
    "    dfTemp.apply(lambda x: tomarPrimerDato(x['descripcion']) \n",
    "                 if(isinstance(x['descripcion'], list)) \n",
    "                 else np.nan, axis=1)))\n",
    "\n",
    "nuevosDatos.rename(columns={0:'ambientes'}, inplace=True)"
   ]
  },
  {
   "cell_type": "code",
   "execution_count": null,
   "metadata": {},
   "outputs": [],
   "source": [
    "#se genera nueva columna con el resultado de la funcion banos\n",
    "dfTemp = pd.DataFrame(dfDescripcion.apply(banos))\n",
    "\n",
    "#se genera nueva columna con el resultado de la funcion ambientes\n",
    "nuevosDatos = nuevosDatos.join(pd.DataFrame(\n",
    "    dfTemp.apply(lambda x: tomarPrimerDato(x['descripcion']) \n",
    "                 if(isinstance(x['descripcion'], list)) \n",
    "                 else np.nan, axis=1)))\n",
    "\n",
    "nuevosDatos.rename(columns={0:'banos'}, inplace=True)"
   ]
  },
  {
   "cell_type": "code",
   "execution_count": null,
   "metadata": {},
   "outputs": [],
   "source": [
    "#se genera nueva columna con el resultado de la funcion credito\n",
    "dfTemp = pd.DataFrame(dfDescripcion.apply(credito))\n",
    "\n",
    "nuevosDatos = nuevosDatos.join(pd.DataFrame(\n",
    "    dfTemp.apply(lambda x: True \n",
    "                 if(isinstance(x['descripcion'], list)) \n",
    "                 else False, axis=1)))\n",
    "\n",
    "nuevosDatos.rename(columns={0:'apto_credito'}, inplace=True)"
   ]
  },
  {
   "cell_type": "code",
   "execution_count": null,
   "metadata": {},
   "outputs": [],
   "source": [
    "#se genera nueva columna con el resultado de la funcion enpozo\n",
    "dfTemp = pd.DataFrame(dfDescripcion.apply(enpozo))\n",
    "\n",
    "nuevosDatos = nuevosDatos.join(pd.DataFrame(\n",
    "    dfTemp.apply(lambda x: True \n",
    "                 if(isinstance(x['descripcion'], list)) \n",
    "                 else False, axis=1)))\n",
    "\n",
    "nuevosDatos.rename(columns={0:'en_pozo'}, inplace=True)"
   ]
  },
  {
   "cell_type": "code",
   "execution_count": null,
   "metadata": {},
   "outputs": [],
   "source": [
    "#se genera nueva columna con el resultado de la funcion emprendimiento\n",
    "dfTemp = pd.DataFrame(dfDescripcion.apply(emprendimiento))\n",
    "\n",
    "nuevosDatos = nuevosDatos.join(pd.DataFrame(\n",
    "    dfTemp.apply(lambda x: True \n",
    "                 if(isinstance(x['descripcion'], list)) \n",
    "                 else False, axis=1)))\n",
    "\n",
    "nuevosDatos.rename(columns={0:'emprendimiento'}, inplace=True)"
   ]
  },
  {
   "cell_type": "code",
   "execution_count": null,
   "metadata": {},
   "outputs": [],
   "source": [
    "#se genera nueva columna con el resultado de la funcion aptoprofesional\n",
    "dfTemp = pd.DataFrame(dfDescripcion.apply(aptoprofesional))\n",
    "\n",
    "nuevosDatos = nuevosDatos.join(pd.DataFrame(\n",
    "    dfTemp.apply(lambda x: True \n",
    "                 if(isinstance(x['descripcion'], list)) \n",
    "                 else False, axis=1)))\n",
    "\n",
    "nuevosDatos.rename(columns={0:'apto_profesional'}, inplace=True)"
   ]
  },
  {
   "cell_type": "code",
   "execution_count": null,
   "metadata": {},
   "outputs": [],
   "source": [
    "#se genera nueva columna con el resultado de la funcion habitacionsuite\n",
    "dfTemp = pd.DataFrame(dfDescripcion.apply(habitacionsuite))\n",
    "\n",
    "nuevosDatos = nuevosDatos.join(pd.DataFrame(\n",
    "    dfTemp.apply(lambda x: True \n",
    "                 if(isinstance(x['descripcion'], list)) \n",
    "                 else False, axis=1)))\n",
    "\n",
    "nuevosDatos.rename(columns={0:'habitacion_en_suite'}, inplace=True)"
   ]
  },
  {
   "cell_type": "code",
   "execution_count": null,
   "metadata": {},
   "outputs": [],
   "source": [
    "#se genera nueva columna con el resultado de la funcion habitacionservicio\n",
    "dfTemp = pd.DataFrame(dfDescripcion.apply(habitacionservicio))\n",
    "\n",
    "nuevosDatos = nuevosDatos.join(pd.DataFrame(\n",
    "    dfTemp.apply(lambda x: True \n",
    "                 if(isinstance(x['descripcion'], list)) \n",
    "                 else False, axis=1)))\n",
    "\n",
    "nuevosDatos.rename(columns={0:'habitacion_de_servicio'}, inplace=True)"
   ]
  },
  {
   "cell_type": "code",
   "execution_count": null,
   "metadata": {},
   "outputs": [],
   "source": [
    "#se genera nueva columna con el resultado de la funcion livingcomedor\n",
    "dfTemp = pd.DataFrame(dfDescripcion.apply(livingcomedor))\n",
    "\n",
    "nuevosDatos = nuevosDatos.join(pd.DataFrame(\n",
    "    dfTemp.apply(lambda x: True \n",
    "                 if(isinstance(x['descripcion'], list)) \n",
    "                 else False, axis=1)))\n",
    "\n",
    "nuevosDatos.rename(columns={0:'living_comedor'}, inplace=True)"
   ]
  },
  {
   "cell_type": "code",
   "execution_count": null,
   "metadata": {},
   "outputs": [],
   "source": [
    "#se genera nueva columna con el resultado de la funcion cochera\n",
    "dfTemp = pd.DataFrame(dfDescripcion.apply(cochera))\n",
    "\n",
    "nuevosDatos = nuevosDatos.join(pd.DataFrame(\n",
    "    dfTemp.apply(lambda x: True \n",
    "                 if(isinstance(x['descripcion'], list)) \n",
    "                 else False, axis=1)))\n",
    "\n",
    "nuevosDatos.rename(columns={0:'cochera'}, inplace=True)"
   ]
  },
  {
   "cell_type": "code",
   "execution_count": null,
   "metadata": {},
   "outputs": [],
   "source": [
    "nuevosDatos.head(10)"
   ]
  },
  {
   "cell_type": "code",
   "execution_count": null,
   "metadata": {},
   "outputs": [],
   "source": [
    "#se vuelven a poner los campos como sin datos\n",
    "propiedades['piso'].replace(to_replace='no informado', value=np.nan, inplace=True)\n",
    "propiedades['piso'].replace(to_replace='no requerido', value=np.nan, inplace=True)\n",
    "propiedades['piso'].replace(to_replace='mal informado', value=np.nan, inplace=True)"
   ]
  },
  {
   "cell_type": "code",
   "execution_count": null,
   "metadata": {
    "scrolled": true
   },
   "outputs": [],
   "source": [
    "#vamos a comparar los valores de las columnas piso\n",
    "dfTemp = propiedades[['piso']].copy()\n",
    "dfTemp.columns=['piso1']\n",
    "dfTemp = dfTemp.join(nuevosDatos[['piso']].copy())\n",
    "dfTemp.columns=['piso1','piso2']"
   ]
  },
  {
   "cell_type": "code",
   "execution_count": null,
   "metadata": {},
   "outputs": [],
   "source": [
    "#si no son los dos np.nan se deja np.nan.\n",
    "#si piso columana df original no es np.nan se deja ese valor.\n",
    "#sino se deja el que se consiguio de descripcion.\n",
    "dfTemp = pd.DataFrame(dfTemp.apply(lambda x: np.nan \n",
    "                                   if(np.isnan(float(x['piso1'])) and np.isnan(float(x['piso2'])))\n",
    "                                   else (float(x['piso1']) \n",
    "                                         if (not np.isnan(float(x['piso1']))) \n",
    "                                         else float(x['piso2'])), axis=1))\n",
    "\n",
    "#reemplazamos con la nueva columna piso.\n",
    "propiedades['piso'] = dfTemp[0]"
   ]
  },
  {
   "cell_type": "code",
   "execution_count": null,
   "metadata": {},
   "outputs": [],
   "source": [
    "#eliminamos columna ya ingresada\n",
    "nuevosDatos.drop(['piso'], axis=1, inplace=True)\n",
    "\n",
    "#sumamos las nuevas columnas al df de propiedades\n",
    "propiedades = propiedades.join(nuevosDatos)"
   ]
  },
  {
   "cell_type": "code",
   "execution_count": null,
   "metadata": {},
   "outputs": [],
   "source": [
    "propiedades.columns"
   ]
  },
  {
   "cell_type": "code",
   "execution_count": null,
   "metadata": {},
   "outputs": [],
   "source": [
    "#se guarda csv completo\n",
    "propiedades.to_dense().to_csv(\"../data/out_proceso02.csv\", index = False, sep=',', encoding='utf-8')"
   ]
  }
 ],
 "metadata": {
  "kernelspec": {
   "display_name": "Python 3",
   "language": "python",
   "name": "python3"
  },
  "language_info": {
   "codemirror_mode": {
    "name": "ipython",
    "version": 3
   },
   "file_extension": ".py",
   "mimetype": "text/x-python",
   "name": "python",
   "nbconvert_exporter": "python",
   "pygments_lexer": "ipython3",
   "version": "3.6.5"
  }
 },
 "nbformat": 4,
 "nbformat_minor": 2
}
